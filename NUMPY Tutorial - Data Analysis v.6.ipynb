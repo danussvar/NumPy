{
 "cells": [
  {
   "cell_type": "markdown",
   "metadata": {},
   "source": [
    "Data Analysis - Numpy Tutorial "
   ]
  },
  {
   "cell_type": "code",
   "execution_count": null,
   "metadata": {},
   "outputs": [],
   "source": [
    "****************   Variables   **************** "
   ]
  },
  {
   "cell_type": "code",
   "execution_count": 6,
   "metadata": {},
   "outputs": [
    {
     "name": "stdout",
     "output_type": "stream",
     "text": [
      "[1 2 3]\n"
     ]
    }
   ],
   "source": [
    "# one dimension array \n",
    "import numpy as np\n",
    "a=np.array([1,2,3])\n",
    "print(a)"
   ]
  },
  {
   "cell_type": "code",
   "execution_count": 7,
   "metadata": {},
   "outputs": [
    {
     "name": "stdout",
     "output_type": "stream",
     "text": [
      "[[1 2 3]\n",
      " [4 5 6]]\n"
     ]
    }
   ],
   "source": [
    "# more than one dimensions \n",
    "import numpy as np\n",
    "a=np.array([[1,2,3],[4,5,6]])\n",
    "print(a)"
   ]
  },
  {
   "cell_type": "code",
   "execution_count": 8,
   "metadata": {},
   "outputs": [
    {
     "name": "stdout",
     "output_type": "stream",
     "text": [
      "[[1 2 3]\n",
      " [4 5 6]\n",
      " [7 8 9]]\n"
     ]
    }
   ],
   "source": [
    "# more than one dimensions \n",
    "import numpy as np\n",
    "a=np.array([[1,2,3],[4,5,6],[7,8,9]])\n",
    "print(a)"
   ]
  },
  {
   "cell_type": "code",
   "execution_count": null,
   "metadata": {},
   "outputs": [],
   "source": [
    "****************    Ndarray Object   **************** \n",
    "   Parameters of ndarray Object\n",
    "     numpy.array(object, dtype = None, copy = True, order = None, subok = False, ndmin = 0)"
   ]
  },
  {
   "cell_type": "code",
   "execution_count": 9,
   "metadata": {},
   "outputs": [
    {
     "name": "stdout",
     "output_type": "stream",
     "text": [
      "[1 2 3]\n"
     ]
    }
   ],
   "source": [
    "# minimum dimension - ndmin \n",
    "import numpy as np\n",
    "a=np.array([1,2,3], ndmin=0)\n",
    "print(a)"
   ]
  },
  {
   "cell_type": "code",
   "execution_count": 10,
   "metadata": {},
   "outputs": [
    {
     "name": "stdout",
     "output_type": "stream",
     "text": [
      "[1 2 3]\n"
     ]
    }
   ],
   "source": [
    "# minimum dimension - ndmin \n",
    "import numpy as np\n",
    "a=np.array([1,2,3], ndmin=1)\n",
    "print(a)"
   ]
  },
  {
   "cell_type": "code",
   "execution_count": 11,
   "metadata": {},
   "outputs": [
    {
     "name": "stdout",
     "output_type": "stream",
     "text": [
      "[[[1 2 3]]]\n"
     ]
    }
   ],
   "source": [
    "# minimum dimension - ndmin \n",
    "import numpy as np\n",
    "a=np.array([1,2,3], ndmin=3)\n",
    "print(a)"
   ]
  },
  {
   "cell_type": "code",
   "execution_count": 12,
   "metadata": {},
   "outputs": [
    {
     "name": "stdout",
     "output_type": "stream",
     "text": [
      "[[[[[1 2 3]]]]]\n"
     ]
    }
   ],
   "source": [
    "# minimum dimension - ndmin \n",
    "import numpy as np\n",
    "a=np.array([1,2,3], ndmin=5)\n",
    "print(a)"
   ]
  },
  {
   "cell_type": "code",
   "execution_count": 13,
   "metadata": {},
   "outputs": [
    {
     "name": "stdout",
     "output_type": "stream",
     "text": [
      "[1 2 3]\n"
     ]
    }
   ],
   "source": [
    "# Datatype Parameter - dtype \n",
    "import numpy as np\n",
    "a=np.array([1,2,3], dtype=int)\n",
    "print(a)"
   ]
  },
  {
   "cell_type": "code",
   "execution_count": 14,
   "metadata": {},
   "outputs": [
    {
     "name": "stdout",
     "output_type": "stream",
     "text": [
      "[1. 2. 3.]\n"
     ]
    }
   ],
   "source": [
    "# Datatype Parameter - dtype \n",
    "import numpy as np\n",
    "a=np.array([1,2,3], dtype=float)\n",
    "print(a)"
   ]
  },
  {
   "cell_type": "code",
   "execution_count": 15,
   "metadata": {},
   "outputs": [
    {
     "name": "stdout",
     "output_type": "stream",
     "text": [
      "[1.+0.j 2.+0.j 3.+0.j]\n"
     ]
    }
   ],
   "source": [
    "# Datatype Parameter - dtype \n",
    "import numpy as np\n",
    "a=np.array([1,2,3], dtype=complex)\n",
    "print(a)"
   ]
  },
  {
   "cell_type": "code",
   "execution_count": null,
   "metadata": {},
   "outputs": [],
   "source": [
    "****************    Data Type Objects (dtype)   **************** "
   ]
  },
  {
   "cell_type": "code",
   "execution_count": 17,
   "metadata": {},
   "outputs": [
    {
     "name": "stdout",
     "output_type": "stream",
     "text": [
      "int32\n"
     ]
    }
   ],
   "source": [
    "import numpy as np\n",
    "a=np.dtype(np.int32)\n",
    "print (a)"
   ]
  },
  {
   "cell_type": "code",
   "execution_count": 23,
   "metadata": {},
   "outputs": [
    {
     "name": "stdout",
     "output_type": "stream",
     "text": [
      "int64\n"
     ]
    }
   ],
   "source": [
    "import numpy as np\n",
    "a=np.dtype(np.int64)\n",
    "print (a)"
   ]
  },
  {
   "cell_type": "code",
   "execution_count": 24,
   "metadata": {},
   "outputs": [
    {
     "name": "stdout",
     "output_type": "stream",
     "text": [
      "int32\n"
     ]
    }
   ],
   "source": [
    "import numpy as np\n",
    "a=np.dtype('<i4')\n",
    "print (a)"
   ]
  },
  {
   "cell_type": "code",
   "execution_count": 22,
   "metadata": {},
   "outputs": [
    {
     "name": "stdout",
     "output_type": "stream",
     "text": [
      "[('age', '<i4')]\n"
     ]
    }
   ],
   "source": [
    "# First Create a structured datatype\n",
    "import numpy as np\n",
    "a=np.dtype([('age',np.int32)])\n",
    "print (a)"
   ]
  },
  {
   "cell_type": "code",
   "execution_count": null,
   "metadata": {},
   "outputs": [],
   "source": [
    "# Now apply it to ndarray object "
   ]
  },
  {
   "cell_type": "code",
   "execution_count": 1,
   "metadata": {},
   "outputs": [
    {
     "name": "stdout",
     "output_type": "stream",
     "text": [
      "[b'45' b'56' b'43' b'55']\n"
     ]
    }
   ],
   "source": [
    "import numpy as np\n",
    "a=np.dtype([('age',np.int32)])\n",
    "b=np.array([45,56,43,55],dtype='a')\n",
    "print(b)"
   ]
  },
  {
   "cell_type": "code",
   "execution_count": 2,
   "metadata": {},
   "outputs": [
    {
     "name": "stdout",
     "output_type": "stream",
     "text": [
      "[(32.93487549,) (43.58798266,)]\n"
     ]
    }
   ],
   "source": [
    "# One more example - creating a structured object and applying it to ndarray\n",
    "import numpy as np\n",
    "x=np.dtype([('gps location', np.float64) ])\n",
    "a=np.array([32.9348754905, 43.5879826595], dtype=x)\n",
    "print (a)"
   ]
  },
  {
   "cell_type": "code",
   "execution_count": 11,
   "metadata": {},
   "outputs": [
    {
     "name": "stdout",
     "output_type": "stream",
     "text": [
      "[(b'John',) (b'Mark',)]\n"
     ]
    }
   ],
   "source": [
    "# One more example using string - creating a structured object and applying it to ndarray\n",
    "import numpy as np\n",
    "x=np.dtype([('name','S20')])\n",
    "a=np.array(['John','Mark'],dtype=x)\n",
    "print(a)"
   ]
  },
  {
   "cell_type": "code",
   "execution_count": 2,
   "metadata": {},
   "outputs": [
    {
     "name": "stdout",
     "output_type": "stream",
     "text": [
      "[(b'John', 18, 111334) (b'Roe', 19, 111345) (b'Tim', 19, 111367)]\n"
     ]
    }
   ],
   "source": [
    "# Using multiple fields\n",
    "import numpy as np\n",
    "a=np.dtype([('name','S20'),('age','int32'),('roll no','int64')])\n",
    "b=np.array([('John','18','111334'),('Roe','19','111345'),('Tim','19','111367')], dtype=a)\n",
    "print(b)"
   ]
  },
  {
   "cell_type": "code",
   "execution_count": null,
   "metadata": {},
   "outputs": [],
   "source": [
    "****************    NumPy - Array Attributes   **************** \n",
    "\n",
    "Things can we do using array in NumPy:\n",
    "    1. Creating an array\n",
    "    2. Reshaping an array with and without using reshape function\n",
    "    3. Splitting an array\n",
    "    4. Filling array with empty, zeros, ones\n",
    "    5. Converting list to ndarray\n",
    "    6. Array with numerical ranges with start, stop, steps parameter\n",
    "    7. linspace, logspace\n",
    "    8. Indexing and Slicing\n",
    "    9. Advanced Indexing\n",
    "    10.Broadcasting\n",
    "    11.Iterating and Iterating over array"
   ]
  },
  {
   "cell_type": "code",
   "execution_count": 15,
   "metadata": {},
   "outputs": [
    {
     "name": "stdout",
     "output_type": "stream",
     "text": [
      "[1 2 3]\n"
     ]
    }
   ],
   "source": [
    "# simple array - One Dimensional Array\n",
    "import numpy as np\n",
    "a=np.array([1,2,3])\n",
    "print (a)"
   ]
  },
  {
   "cell_type": "code",
   "execution_count": 21,
   "metadata": {},
   "outputs": [
    {
     "name": "stdout",
     "output_type": "stream",
     "text": [
      "[[1 2 3]\n",
      " [4 5 6]]\n"
     ]
    }
   ],
   "source": [
    "# simple array - Two Dimensional Array\n",
    "import numpy as np\n",
    "a=np.array([[1,2,3],[4,5,6]])\n",
    "print (a)"
   ]
  },
  {
   "cell_type": "code",
   "execution_count": 24,
   "metadata": {},
   "outputs": [
    {
     "name": "stdout",
     "output_type": "stream",
     "text": [
      "(2, 3)\n"
     ]
    }
   ],
   "source": [
    "# ndarray.shape\n",
    "import numpy as np\n",
    "a=np.array([[1,2,3],[4,5,6]])    # 2rows 3 columns\n",
    "print (a.shape)"
   ]
  },
  {
   "cell_type": "code",
   "execution_count": 30,
   "metadata": {},
   "outputs": [
    {
     "name": "stdout",
     "output_type": "stream",
     "text": [
      "[[1 2]\n",
      " [3 4]\n",
      " [5 6]]\n"
     ]
    }
   ],
   "source": [
    "# resizing the ndarray\n",
    "import numpy as np\n",
    "a=np.array([[1,2,3],[4,5,6]])    # 2rows 3 columns resize to 3 rows 2 column\n",
    "a.shape=(3,2)\n",
    "print(a)"
   ]
  },
  {
   "cell_type": "code",
   "execution_count": 1,
   "metadata": {},
   "outputs": [
    {
     "name": "stdout",
     "output_type": "stream",
     "text": [
      "[[1]\n",
      " [2]\n",
      " [3]\n",
      " [4]\n",
      " [5]\n",
      " [6]]\n"
     ]
    }
   ],
   "source": [
    "# resizing the ndarray\n",
    "import numpy as np\n",
    "a=np.array([[1,2,3],[4,5,6]])    # 2rows 3 columns resize to 6 rows 1 column\n",
    "a.shape=(6,1)\n",
    "print(a)"
   ]
  },
  {
   "cell_type": "code",
   "execution_count": 33,
   "metadata": {},
   "outputs": [
    {
     "name": "stdout",
     "output_type": "stream",
     "text": [
      "[[1 2]\n",
      " [3 4]\n",
      " [5 6]]\n"
     ]
    }
   ],
   "source": [
    "# resizing the ndarray using reshape function\n",
    "import numpy as np\n",
    "a=np.array([[1,2,3],[4,5,6]])    # 2rows 3 columns resize to 3 rows 2 column\n",
    "b=a.reshape(3,2)\n",
    "print(b)"
   ]
  },
  {
   "cell_type": "code",
   "execution_count": 7,
   "metadata": {},
   "outputs": [
    {
     "name": "stdout",
     "output_type": "stream",
     "text": [
      "[[[1 2]\n",
      "  [3 4]]\n",
      "\n",
      " [[4 5]\n",
      "  [6 7]]]\n"
     ]
    }
   ],
   "source": [
    "# resizing the ndarray using reshape function\n",
    "import numpy as np\n",
    "a=np.array([[1,2,3,4],[4,5,6,7]])    \n",
    "b=a.reshape(2,2,2)              # Creating three dimensional array\n",
    "print(b)"
   ]
  },
  {
   "cell_type": "code",
   "execution_count": 35,
   "metadata": {},
   "outputs": [
    {
     "name": "stdout",
     "output_type": "stream",
     "text": [
      "[[1]\n",
      " [2]\n",
      " [3]\n",
      " [4]\n",
      " [5]\n",
      " [6]]\n"
     ]
    }
   ],
   "source": [
    "# resizing the ndarray using reshape function\n",
    "import numpy as np\n",
    "a=np.array([[1,2,3],[4,5,6]])    # 2rows 3 columns resize to 6 rows 1 column\n",
    "b=a.reshape(6,1)\n",
    "print(b)"
   ]
  },
  {
   "cell_type": "code",
   "execution_count": 37,
   "metadata": {},
   "outputs": [
    {
     "name": "stdout",
     "output_type": "stream",
     "text": [
      "[0 1 2 3 4 5 6 7 8 9]\n"
     ]
    }
   ],
   "source": [
    "# using ndarray.arange - One dimensional array\n",
    "import numpy as np\n",
    "a=np.arange(10)           # range from 0 1o 9\n",
    "print(a)"
   ]
  },
  {
   "cell_type": "code",
   "execution_count": 46,
   "metadata": {},
   "outputs": [
    {
     "name": "stdout",
     "output_type": "stream",
     "text": [
      "[[0 1 2]\n",
      " [3 4 5]\n",
      " [6 7 8]]\n"
     ]
    }
   ],
   "source": [
    "# Splitting the above program into two dimensional array\n",
    "# ndim and shape\n",
    "import numpy as np\n",
    "a=np.arange(9)\n",
    "a.ndim\n",
    "a.shape=(3,3)\n",
    "print(a)\n"
   ]
  },
  {
   "cell_type": "code",
   "execution_count": 52,
   "metadata": {},
   "outputs": [
    {
     "name": "stdout",
     "output_type": "stream",
     "text": [
      "[[[0 1]\n",
      "  [2 3]]\n",
      "\n",
      " [[4 5]\n",
      "  [6 7]]]\n"
     ]
    }
   ],
   "source": [
    "# Splitting the above program into three dimensional array\n",
    "# ndim and shape\n",
    "import numpy as np\n",
    "a=np.arange(8)\n",
    "a.ndim\n",
    "a.shape=(2,2,2)\n",
    "print(a)\n"
   ]
  },
  {
   "cell_type": "code",
   "execution_count": 53,
   "metadata": {},
   "outputs": [
    {
     "name": "stdout",
     "output_type": "stream",
     "text": [
      "[[[0 1]\n",
      "  [2 3]]\n",
      "\n",
      " [[4 5]\n",
      "  [6 7]]]\n"
     ]
    }
   ],
   "source": [
    "# Splitting the above program into three dimensional array\n",
    "# ndim and reshape function\n",
    "import numpy as np\n",
    "a=np.arange(8)\n",
    "a.ndim\n",
    "b= a.reshape(2,2,2)\n",
    "print(b)\n"
   ]
  },
  {
   "cell_type": "code",
   "execution_count": 58,
   "metadata": {},
   "outputs": [
    {
     "name": "stdout",
     "output_type": "stream",
     "text": [
      "4\n"
     ]
    }
   ],
   "source": [
    "# numpy.itemsize \n",
    "# returns the length of each element of array in bytes.\n",
    "\n",
    "import numpy as np\n",
    "a=np.array([1,2,3], 'int32')\n",
    "print (a.itemsize)\n"
   ]
  },
  {
   "cell_type": "code",
   "execution_count": 59,
   "metadata": {},
   "outputs": [
    {
     "name": "stdout",
     "output_type": "stream",
     "text": [
      "8\n"
     ]
    }
   ],
   "source": [
    "import numpy as np\n",
    "a=np.array([1,2,3], 'int64')\n",
    "print (a.itemsize)"
   ]
  },
  {
   "cell_type": "code",
   "execution_count": 61,
   "metadata": {},
   "outputs": [
    {
     "name": "stdout",
     "output_type": "stream",
     "text": [
      "4\n"
     ]
    }
   ],
   "source": [
    "import numpy as np\n",
    "a=np.array([1,2,3,5,6,7], 'float32')\n",
    "print (a.itemsize)"
   ]
  },
  {
   "cell_type": "code",
   "execution_count": 63,
   "metadata": {},
   "outputs": [
    {
     "name": "stdout",
     "output_type": "stream",
     "text": [
      "8\n"
     ]
    }
   ],
   "source": [
    "import numpy as np\n",
    "a=np.array([1,2,3], dtype='int64')\n",
    "print (a.itemsize)"
   ]
  },
  {
   "cell_type": "code",
   "execution_count": 65,
   "metadata": {},
   "outputs": [
    {
     "name": "stdout",
     "output_type": "stream",
     "text": [
      "  C_CONTIGUOUS : True\n",
      "  F_CONTIGUOUS : True\n",
      "  OWNDATA : True\n",
      "  WRITEABLE : True\n",
      "  ALIGNED : True\n",
      "  WRITEBACKIFCOPY : False\n",
      "  UPDATEIFCOPY : False\n"
     ]
    }
   ],
   "source": [
    "# numpy.flags\n",
    "# current values of all attributes in the object are returned\n",
    "\n",
    "import numpy as np\n",
    "a=np.array([1,2,3])\n",
    "print(a.flags)"
   ]
  },
  {
   "cell_type": "code",
   "execution_count": 69,
   "metadata": {},
   "outputs": [
    {
     "name": "stdout",
     "output_type": "stream",
     "text": [
      "[[4.9e-324 9.9e-324 1.5e-323]\n",
      " [2.0e-323 2.5e-323 3.0e-323]]\n"
     ]
    }
   ],
   "source": [
    "# numpy.empty\n",
    "# creates an uninitialized array of specified shape and dtype\n",
    "\n",
    "import numpy as np\n",
    "a=np.empty([2,3])\n",
    "print(a)\n",
    "\n",
    "#values are randomly assigned\n",
    "#default datatype is float"
   ]
  },
  {
   "cell_type": "code",
   "execution_count": 74,
   "metadata": {},
   "outputs": [
    {
     "name": "stdout",
     "output_type": "stream",
     "text": [
      "[[1 2 3]\n",
      " [4 5 6]]\n"
     ]
    }
   ],
   "source": [
    "# another example with datatype defined\n",
    "\n",
    "import numpy as np\n",
    "a=np.empty([2,3], dtype='int')\n",
    "print(a)"
   ]
  },
  {
   "cell_type": "code",
   "execution_count": 75,
   "metadata": {},
   "outputs": [
    {
     "name": "stdout",
     "output_type": "stream",
     "text": [
      "[[0. 0. 0.]\n",
      " [0. 0. 0.]]\n"
     ]
    }
   ],
   "source": [
    "# numpy.zeros\n",
    "# Returns a new array of specified size, filled with zeros\n",
    "\n",
    "import numpy as np\n",
    "a=np.zeros([2,3])\n",
    "print(a)"
   ]
  },
  {
   "cell_type": "code",
   "execution_count": 79,
   "metadata": {},
   "outputs": [
    {
     "name": "stdout",
     "output_type": "stream",
     "text": [
      "[[1. 1. 1.]\n",
      " [1. 1. 1.]]\n"
     ]
    }
   ],
   "source": [
    "# numpy.ones\n",
    "# Returns a new array of specified size, filled with ones\n",
    "\n",
    "import numpy as np\n",
    "a=np.ones([2,3])\n",
    "print(a)"
   ]
  },
  {
   "cell_type": "code",
   "execution_count": 80,
   "metadata": {},
   "outputs": [
    {
     "name": "stdout",
     "output_type": "stream",
     "text": [
      "[[1 1 1]\n",
      " [1 1 1]]\n"
     ]
    }
   ],
   "source": [
    "import numpy as np\n",
    "a=np.ones([2,3], dtype='int32')\n",
    "print(a)"
   ]
  },
  {
   "cell_type": "code",
   "execution_count": 84,
   "metadata": {},
   "outputs": [
    {
     "name": "stdout",
     "output_type": "stream",
     "text": [
      "[1 2 3]\n"
     ]
    }
   ],
   "source": [
    "# numpy.asarray\n",
    "# converting list to ndarray\n",
    "\n",
    "import numpy as np\n",
    "a=(1,2,3)\n",
    "b=np.asarray(a)\n",
    "print(b)"
   ]
  },
  {
   "cell_type": "code",
   "execution_count": 87,
   "metadata": {},
   "outputs": [
    {
     "name": "stdout",
     "output_type": "stream",
     "text": [
      "['a' 'b']\n"
     ]
    }
   ],
   "source": [
    "import numpy as np\n",
    "a=('a','b')\n",
    "b=np.asarray(a)\n",
    "print(b)"
   ]
  },
  {
   "cell_type": "code",
   "execution_count": 89,
   "metadata": {},
   "outputs": [
    {
     "name": "stdout",
     "output_type": "stream",
     "text": [
      "[1. 2. 3.]\n"
     ]
    }
   ],
   "source": [
    "import numpy as np\n",
    "a=(1,2,3)\n",
    "b=np.asarray(a, dtype='float')\n",
    "print(b)"
   ]
  },
  {
   "cell_type": "code",
   "execution_count": 90,
   "metadata": {},
   "outputs": [
    {
     "name": "stdout",
     "output_type": "stream",
     "text": [
      "[[1. 2. 3.]\n",
      " [4. 5. 6.]]\n"
     ]
    }
   ],
   "source": [
    "import numpy as np\n",
    "a=(1,2,3),(4,5,6)\n",
    "b=np.asarray(a, dtype='float')\n",
    "print(b)"
   ]
  },
  {
   "cell_type": "code",
   "execution_count": null,
   "metadata": {},
   "outputs": [],
   "source": [
    "****************   NumPy - Array From Numerical Ranges   ****************"
   ]
  },
  {
   "cell_type": "code",
   "execution_count": null,
   "metadata": {},
   "outputs": [],
   "source": [
    "# numpy.arange\n",
    "# This function returns an ndarray object containing evenly spaced values within a given range."
   ]
  },
  {
   "cell_type": "code",
   "execution_count": 4,
   "metadata": {},
   "outputs": [
    {
     "name": "stdout",
     "output_type": "stream",
     "text": [
      "[0 1 2 3 4]\n"
     ]
    }
   ],
   "source": [
    "import numpy as np\n",
    "x=np.arange(5)\n",
    "print (x)"
   ]
  },
  {
   "cell_type": "code",
   "execution_count": 5,
   "metadata": {},
   "outputs": [
    {
     "name": "stdout",
     "output_type": "stream",
     "text": [
      "[0. 1. 2. 3. 4.]\n"
     ]
    }
   ],
   "source": [
    "# Above program with datatype fixed\n",
    "import numpy as np\n",
    "x=np.arange(5,dtype='float32')\n",
    "print(x)"
   ]
  },
  {
   "cell_type": "code",
   "execution_count": 8,
   "metadata": {},
   "outputs": [
    {
     "name": "stdout",
     "output_type": "stream",
     "text": [
      "[ 1  2  3  4  5  6  7  8  9 10 11 12 13 14 15 16 17 18 19]\n"
     ]
    }
   ],
   "source": [
    "# With start and stop parameters\n",
    "import numpy as np\n",
    "x=np.arange(1,20)\n",
    "print(x)"
   ]
  },
  {
   "cell_type": "code",
   "execution_count": 9,
   "metadata": {},
   "outputs": [
    {
     "name": "stdout",
     "output_type": "stream",
     "text": [
      "[ 1  3  5  7  9 11 13 15 17 19]\n"
     ]
    }
   ],
   "source": [
    "# With start and stop parameters along with increment\n",
    "import numpy as np\n",
    "x=np.arange(1,20,2)\n",
    "print(x)"
   ]
  },
  {
   "cell_type": "code",
   "execution_count": null,
   "metadata": {},
   "outputs": [],
   "source": [
    "# numpy.linspace\n",
    "# Instead of step size, the number of evenly spaced values between the interval is specified."
   ]
  },
  {
   "cell_type": "code",
   "execution_count": 11,
   "metadata": {},
   "outputs": [
    {
     "name": "stdout",
     "output_type": "stream",
     "text": [
      "[ 1.  10.5 20. ]\n"
     ]
    }
   ],
   "source": [
    "import numpy as np\n",
    "x=np.linspace(1,20,3)\n",
    "print (x)"
   ]
  },
  {
   "cell_type": "code",
   "execution_count": 16,
   "metadata": {},
   "outputs": [
    {
     "name": "stdout",
     "output_type": "stream",
     "text": [
      "[ 0.  5. 10. 15. 20.]\n"
     ]
    }
   ],
   "source": [
    "# Another example\n",
    "import numpy as np\n",
    "x=np.linspace(0,20,5)\n",
    "print (x)"
   ]
  },
  {
   "cell_type": "code",
   "execution_count": 28,
   "metadata": {},
   "outputs": [
    {
     "name": "stdout",
     "output_type": "stream",
     "text": [
      "[ 0.  4.  8. 12. 16.]\n"
     ]
    }
   ],
   "source": [
    "# Above example with endpoint set to false\n",
    "import numpy as np\n",
    "x=np.linspace(0,20,5, endpoint = False)\n",
    "print (x)"
   ]
  },
  {
   "cell_type": "code",
   "execution_count": 31,
   "metadata": {},
   "outputs": [
    {
     "name": "stdout",
     "output_type": "stream",
     "text": [
      "(array([ 0.,  5., 10., 15., 20.]), 5.0)\n"
     ]
    }
   ],
   "source": [
    "# Finding steps between the consecutive numbers using retstep\n",
    "import numpy as np\n",
    "x=np.linspace(0,20,5, retstep=True)\n",
    "print (x)"
   ]
  },
  {
   "cell_type": "code",
   "execution_count": 33,
   "metadata": {},
   "outputs": [
    {
     "name": "stdout",
     "output_type": "stream",
     "text": [
      "[   2.    4.    8.   16.   32.   64.  128.  256.  512. 1024.]\n"
     ]
    }
   ],
   "source": [
    "# numpy.logspace\n",
    "# set base of log space to 2 \n",
    "import numpy as np \n",
    "a = np.logspace(1,10,num = 10, base = 2) \n",
    "print (a)"
   ]
  },
  {
   "cell_type": "code",
   "execution_count": 38,
   "metadata": {},
   "outputs": [
    {
     "name": "stdout",
     "output_type": "stream",
     "text": [
      "[1.e+01 1.e+02 1.e+03 1.e+04 1.e+05 1.e+06 1.e+07 1.e+08 1.e+09 1.e+10]\n"
     ]
    }
   ],
   "source": [
    "# Above program without setting base. The default base is 10.\n",
    "import numpy as np \n",
    "a = np.logspace(1,10,num = 10) \n",
    "print (a)"
   ]
  },
  {
   "cell_type": "code",
   "execution_count": null,
   "metadata": {},
   "outputs": [],
   "source": [
    "****************    Numpy Indexing and Slicing   ****************"
   ]
  },
  {
   "cell_type": "code",
   "execution_count": null,
   "metadata": {},
   "outputs": [],
   "source": [
    "# Slice Function"
   ]
  },
  {
   "cell_type": "code",
   "execution_count": 46,
   "metadata": {},
   "outputs": [
    {
     "name": "stdout",
     "output_type": "stream",
     "text": [
      "[2 3 4 5 6 7]\n"
     ]
    }
   ],
   "source": [
    "import numpy as np\n",
    "a=np.arange(10)\n",
    "b=slice(2,8)\n",
    "print(a[b])"
   ]
  },
  {
   "cell_type": "code",
   "execution_count": 49,
   "metadata": {},
   "outputs": [
    {
     "name": "stdout",
     "output_type": "stream",
     "text": [
      "[2 3 4 5 6 7]\n"
     ]
    }
   ],
   "source": [
    "# The above program could be also written as \n",
    "import numpy as np\n",
    "a=np.arange(10)\n",
    "b=a[2:8]\n",
    "print(b)"
   ]
  },
  {
   "cell_type": "code",
   "execution_count": 1,
   "metadata": {},
   "outputs": [
    {
     "name": "stdout",
     "output_type": "stream",
     "text": [
      "[2 4 6]\n"
     ]
    }
   ],
   "source": [
    "import numpy as np\n",
    "a=np.arange(10)\n",
    "b=slice(2,8,2)\n",
    "print(a[b])"
   ]
  },
  {
   "cell_type": "code",
   "execution_count": 3,
   "metadata": {},
   "outputs": [
    {
     "name": "stdout",
     "output_type": "stream",
     "text": [
      "[2 4 6]\n"
     ]
    }
   ],
   "source": [
    "import numpy as np         #using step\n",
    "a=np.arange(10)\n",
    "b=a[2:8:2]\n",
    "print(b)"
   ]
  },
  {
   "cell_type": "code",
   "execution_count": 14,
   "metadata": {},
   "outputs": [
    {
     "name": "stdout",
     "output_type": "stream",
     "text": [
      "[[1 2 3]\n",
      " [3 4 5]\n",
      " [4 5 6]]\n"
     ]
    }
   ],
   "source": [
    "# Slicing the arrays\n",
    "\n",
    "import numpy as np \n",
    "a = np.array([[1,2,3],[3,4,5],[4,5,6]]) \n",
    "print (a)    # Printing array"
   ]
  },
  {
   "cell_type": "code",
   "execution_count": 13,
   "metadata": {},
   "outputs": [
    {
     "name": "stdout",
     "output_type": "stream",
     "text": [
      "[[3 4 5]\n",
      " [4 5 6]]\n"
     ]
    }
   ],
   "source": [
    "import numpy as np \n",
    "a = np.array([[1,2,3],[3,4,5],[4,5,6]]) \n",
    "print (a[1:])     # slice items starting from index"
   ]
  },
  {
   "cell_type": "code",
   "execution_count": 15,
   "metadata": {},
   "outputs": [
    {
     "name": "stdout",
     "output_type": "stream",
     "text": [
      "[[4 5 6]]\n"
     ]
    }
   ],
   "source": [
    "import numpy as np \n",
    "a = np.array([[1,2,3],[3,4,5],[4,5,6]]) \n",
    "print (a[2:])     # slice items starting from index"
   ]
  },
  {
   "cell_type": "code",
   "execution_count": 19,
   "metadata": {},
   "outputs": [
    {
     "name": "stdout",
     "output_type": "stream",
     "text": [
      "[[3 4 5]]\n"
     ]
    }
   ],
   "source": [
    "import numpy as np \n",
    "a = np.array([[1,2,3],[3,4,5],[4,5,6]]) \n",
    "print (a[1:2])     # slice items starting from index to end index"
   ]
  },
  {
   "cell_type": "code",
   "execution_count": 20,
   "metadata": {},
   "outputs": [
    {
     "name": "stdout",
     "output_type": "stream",
     "text": [
      "[[4]]\n"
     ]
    }
   ],
   "source": [
    "import numpy as np \n",
    "a = np.array([[1,2,3],[3,4,5],[4,5,6]]) \n",
    "print (a[1:2,1:2])     # slice items starting from index to end index"
   ]
  },
  {
   "cell_type": "code",
   "execution_count": 23,
   "metadata": {},
   "outputs": [
    {
     "name": "stdout",
     "output_type": "stream",
     "text": [
      "[3 4 5]\n"
     ]
    }
   ],
   "source": [
    "# Printing nth row using ellipsis (...)\n",
    "import numpy as np \n",
    "a = np.array([[1,2,3],[3,4,5],[4,5,6]]) \n",
    "print (a[1,...])"
   ]
  },
  {
   "cell_type": "code",
   "execution_count": 21,
   "metadata": {},
   "outputs": [
    {
     "name": "stdout",
     "output_type": "stream",
     "text": [
      "[2 4 5]\n"
     ]
    }
   ],
   "source": [
    "# Printing nth column using ellipsis (...)\n",
    "import numpy as np \n",
    "a = np.array([[1,2,3],[3,4,5],[4,5,6]]) \n",
    "print (a[...,1])"
   ]
  },
  {
   "cell_type": "code",
   "execution_count": 24,
   "metadata": {},
   "outputs": [
    {
     "name": "stdout",
     "output_type": "stream",
     "text": [
      "[[3 4 5]\n",
      " [4 5 6]]\n"
     ]
    }
   ],
   "source": [
    "# Printing from nth row using ellipsis (...)\n",
    "import numpy as np \n",
    "a = np.array([[1,2,3],[3,4,5],[4,5,6]]) \n",
    "print (a[1:,...])"
   ]
  },
  {
   "cell_type": "code",
   "execution_count": 26,
   "metadata": {},
   "outputs": [
    {
     "name": "stdout",
     "output_type": "stream",
     "text": [
      "[[2 3]\n",
      " [4 5]\n",
      " [5 6]]\n"
     ]
    }
   ],
   "source": [
    "# Printing from nth column using ellipsis (...)\n",
    "import numpy as np \n",
    "a = np.array([[1,2,3],[3,4,5],[4,5,6]]) \n",
    "print (a[...,1:])"
   ]
  },
  {
   "cell_type": "code",
   "execution_count": null,
   "metadata": {},
   "outputs": [],
   "source": [
    "****************    Advanced Numpy Indexing     ****************"
   ]
  },
  {
   "cell_type": "code",
   "execution_count": 7,
   "metadata": {},
   "outputs": [
    {
     "name": "stdout",
     "output_type": "stream",
     "text": [
      "[[1 2 3]\n",
      " [4 5 6]\n",
      " [7 8 9]]\n"
     ]
    }
   ],
   "source": [
    "import numpy as np \n",
    "x = np.array([[1,2,3],[4,5,6],[7,8,9]])   \n",
    "print (x)"
   ]
  },
  {
   "cell_type": "code",
   "execution_count": 6,
   "metadata": {},
   "outputs": [
    {
     "name": "stdout",
     "output_type": "stream",
     "text": [
      "[1 5 7]\n"
     ]
    }
   ],
   "source": [
    "import numpy as np \n",
    "x = np.array([[1,2,3],[4,5,6],[7,8,9]]) \n",
    "y = x[[0,1,2], [0,1,0]]   \n",
    "print (y)\n",
    "# 0th row and 0th column is 1, next 1st row and 1st column is 5, 2nd row and 0th column us 7"
   ]
  },
  {
   "cell_type": "code",
   "execution_count": 1,
   "metadata": {},
   "outputs": [
    {
     "name": "stdout",
     "output_type": "stream",
     "text": [
      "[[1 2]\n",
      " [7 8]]\n"
     ]
    }
   ],
   "source": [
    "import numpy as np \n",
    "x = np.array([[1,2,3],[4,5,6],[7,8,9]]) \n",
    "\n",
    "rows = np.array([[0,0],[2,2]])\n",
    "cols = np.array([[0,1],[0,1]]) \n",
    "\n",
    "y = x[rows,cols] \n",
    "print (y)\n",
    "\n",
    "# (0,0)=1, (0,1)=2, (2,0)=7, (2,1)=8"
   ]
  },
  {
   "cell_type": "code",
   "execution_count": 21,
   "metadata": {},
   "outputs": [
    {
     "name": "stdout",
     "output_type": "stream",
     "text": [
      "[[ 2  3  4]\n",
      " [ 5  6  7]\n",
      " [ 8  9 10]]\n"
     ]
    }
   ],
   "source": [
    "# Lets see slicing again\n",
    "import numpy as np\n",
    "x=np.array([[1,2,3,4,5],[4,5,6,7,8],[7,8,9,10,11],[10,11,12,13,14]])\n",
    "y=x[0:3,1:4]\n",
    "print(y)"
   ]
  },
  {
   "cell_type": "code",
   "execution_count": 23,
   "metadata": {},
   "outputs": [
    {
     "name": "stdout",
     "output_type": "stream",
     "text": [
      "[[ 3  4]\n",
      " [ 6  7]\n",
      " [ 9 10]]\n"
     ]
    }
   ],
   "source": [
    "# Slicing using advanced index column\n",
    "import numpy as np\n",
    "x=np.array([[1,2,3,4,5],[4,5,6,7,8],[7,8,9,10,11],[10,11,12,13,14]])\n",
    "y=x[0:3,[2,3]]\n",
    "print(y)"
   ]
  },
  {
   "cell_type": "code",
   "execution_count": 25,
   "metadata": {},
   "outputs": [
    {
     "name": "stdout",
     "output_type": "stream",
     "text": [
      "[array([[False, False, False, False, False],\n",
      "       [False, False, False,  True,  True],\n",
      "       [ True,  True,  True,  True,  True],\n",
      "       [ True,  True,  True,  True,  True]])]\n"
     ]
    }
   ],
   "source": [
    "# Boolean Indexing\n",
    "import numpy as np\n",
    "x=np.array([[1,2,3,4,5],[4,5,6,7,8],[7,8,9,10,11],[10,11,12,13,14]])\n",
    "y=[x>6]\n",
    "print(y)"
   ]
  },
  {
   "cell_type": "code",
   "execution_count": 29,
   "metadata": {},
   "outputs": [
    {
     "name": "stdout",
     "output_type": "stream",
     "text": [
      "[ 7  8  7  8  9 10 11 10 11 12 13 14]\n"
     ]
    }
   ],
   "source": [
    "import numpy as np\n",
    "x=np.array([[1,2,3,4,5],[4,5,6,7,8],[7,8,9,10,11],[10,11,12,13,14]])\n",
    "print(x[x>6])"
   ]
  },
  {
   "cell_type": "code",
   "execution_count": 38,
   "metadata": {},
   "outputs": [
    {
     "name": "stdout",
     "output_type": "stream",
     "text": [
      "[[nan  2.  3.]\n",
      " [ 3. nan  5.]\n",
      " [ 4.  5.  6.]]\n"
     ]
    }
   ],
   "source": [
    "# Not a Number NaN\n",
    "import numpy as np\n",
    "a = np.array([[np.nan,2,3],[3,np.nan,5],[4,5,6]]) \n",
    "print(a)"
   ]
  },
  {
   "cell_type": "code",
   "execution_count": 35,
   "metadata": {},
   "outputs": [
    {
     "name": "stdout",
     "output_type": "stream",
     "text": [
      "[nan nan]\n"
     ]
    }
   ],
   "source": [
    "# Printing NaN from the given array\n",
    "import numpy as np\n",
    "a = np.array([[np.nan,2,3],[3,np.nan,5],[4,5,6]]) \n",
    "print(a[np.isnan(a)])"
   ]
  },
  {
   "cell_type": "code",
   "execution_count": 37,
   "metadata": {},
   "outputs": [
    {
     "name": "stdout",
     "output_type": "stream",
     "text": [
      "[2. 3. 3. 5. 4. 5. 6.]\n"
     ]
    }
   ],
   "source": [
    "# Printing all the items in the array except NaN\n",
    "import numpy as np\n",
    "a = np.array([[np.nan,2,3],[3,np.nan,5],[4,5,6]]) \n",
    "print(a[~np.isnan(a)])"
   ]
  },
  {
   "cell_type": "code",
   "execution_count": null,
   "metadata": {},
   "outputs": [],
   "source": [
    "****************    Broadcasting     ****************"
   ]
  },
  {
   "cell_type": "code",
   "execution_count": 45,
   "metadata": {},
   "outputs": [
    {
     "name": "stdout",
     "output_type": "stream",
     "text": [
      "[[5 7 9]]\n"
     ]
    }
   ],
   "source": [
    "# Simple Array addition\n",
    "import numpy as np\n",
    "a=np.array([[1,2,3]])\n",
    "b=np.array([[4,5,6]])\n",
    "c=a+b\n",
    "print(c)"
   ]
  },
  {
   "cell_type": "code",
   "execution_count": 46,
   "metadata": {},
   "outputs": [
    {
     "name": "stdout",
     "output_type": "stream",
     "text": [
      "[[ 4 10 18]]\n"
     ]
    }
   ],
   "source": [
    "# Simple Array Multiplication\n",
    "import numpy as np\n",
    "a=np.array([[1,2,3]])\n",
    "b=np.array([[4,5,6]])\n",
    "c=a*b\n",
    "print(c)"
   ]
  },
  {
   "cell_type": "code",
   "execution_count": 48,
   "metadata": {},
   "outputs": [
    {
     "name": "stdout",
     "output_type": "stream",
     "text": [
      "[[ 3  5  7]\n",
      " [ 6  8 10]]\n"
     ]
    }
   ],
   "source": [
    "# Two dimensional array - Addition\n",
    "import numpy as np\n",
    "a=np.array([[1,2,3],[4,5,6]])\n",
    "b=np.array([[2,3,4]])\n",
    "c=a+b\n",
    "print(c)"
   ]
  },
  {
   "cell_type": "code",
   "execution_count": 49,
   "metadata": {},
   "outputs": [
    {
     "name": "stdout",
     "output_type": "stream",
     "text": [
      "[[ 2  6 12]\n",
      " [ 8 15 24]]\n"
     ]
    }
   ],
   "source": [
    "# Two dimensional array - Multiplication\n",
    "import numpy as np\n",
    "a=np.array([[1,2,3],[4,5,6]])\n",
    "b=np.array([[2,3,4]])\n",
    "c=a*b\n",
    "print(c)"
   ]
  },
  {
   "cell_type": "code",
   "execution_count": 51,
   "metadata": {},
   "outputs": [
    {
     "name": "stdout",
     "output_type": "stream",
     "text": [
      "[[ 2  6 12]\n",
      " [12 10 18]]\n"
     ]
    }
   ],
   "source": [
    "# Two dimensional array - Multiplication\n",
    "import numpy as np\n",
    "a=np.array([[1,2,3],[4,5,6]])\n",
    "b=np.array([[2,3,4],[3,2,3]])\n",
    "c=a*b\n",
    "print(c)"
   ]
  },
  {
   "cell_type": "code",
   "execution_count": null,
   "metadata": {},
   "outputs": [],
   "source": [
    "****************    NumPy - Iterating Over Array     ****************"
   ]
  },
  {
   "cell_type": "code",
   "execution_count": 1,
   "metadata": {},
   "outputs": [
    {
     "name": "stdout",
     "output_type": "stream",
     "text": [
      "1\n",
      "2\n",
      "3\n"
     ]
    }
   ],
   "source": [
    "# Simple Iteration\n",
    "import numpy as np\n",
    "a = 1,2,3\n",
    "for x in a:\n",
    "   print (x)"
   ]
  },
  {
   "cell_type": "code",
   "execution_count": 2,
   "metadata": {},
   "outputs": [
    {
     "name": "stdout",
     "output_type": "stream",
     "text": [
      "1\n",
      "2\n",
      "3\n",
      "4\n",
      "5\n",
      "6\n",
      "7\n",
      "8\n",
      "9\n"
     ]
    }
   ],
   "source": [
    "# Simple Iteration\n",
    "import numpy as np\n",
    "a = np.arange(1,10)\n",
    "for x in a:\n",
    "   print (x)"
   ]
  },
  {
   "cell_type": "code",
   "execution_count": 30,
   "metadata": {},
   "outputs": [
    {
     "name": "stdout",
     "output_type": "stream",
     "text": [
      "[[ 1  2  3  4]\n",
      " [ 5  6  7  8]\n",
      " [ 9 10 11 12]]\n"
     ]
    }
   ],
   "source": [
    "# Simple array\n",
    "import numpy as np\n",
    "a = np.arange(1,13)\n",
    "a = a.reshape(3,4)\n",
    "print(a)"
   ]
  },
  {
   "cell_type": "code",
   "execution_count": 31,
   "metadata": {},
   "outputs": [
    {
     "name": "stdout",
     "output_type": "stream",
     "text": [
      "1\n",
      "2\n",
      "3\n",
      "4\n",
      "5\n",
      "6\n",
      "7\n",
      "8\n",
      "9\n",
      "10\n",
      "11\n",
      "12\n"
     ]
    }
   ],
   "source": [
    "# Simple Iteration using array\n",
    "import numpy as np\n",
    "a = np.arange(1,13)\n",
    "a = a.reshape(3,4)\n",
    "for x in np.nditer(a):\n",
    "    print (x)"
   ]
  },
  {
   "cell_type": "code",
   "execution_count": 38,
   "metadata": {},
   "outputs": [
    {
     "name": "stdout",
     "output_type": "stream",
     "text": [
      "[[ 1  2  3  4]\n",
      " [ 5  6  7  8]\n",
      " [ 9 10 11 12]]\n",
      "\n",
      "[[ 1  5  9]\n",
      " [ 2  6 10]\n",
      " [ 3  7 11]\n",
      " [ 4  8 12]]\n"
     ]
    }
   ],
   "source": [
    "# Transpose of the simple array\n",
    "\n",
    "import numpy as np\n",
    "a = np.arange(1,13)\n",
    "a = a.reshape(3,4)\n",
    "print(a)\n",
    "print (\"\")\n",
    "b=a.T\n",
    "print(b)\n"
   ]
  },
  {
   "cell_type": "code",
   "execution_count": 42,
   "metadata": {},
   "outputs": [
    {
     "name": "stdout",
     "output_type": "stream",
     "text": [
      "Original array is:\n",
      "[[ 1  2  3  4]\n",
      " [ 5  6  7  8]\n",
      " [ 9 10 11 12]]\n",
      "Transpose of the above array \n",
      "[[ 1  5  9]\n",
      " [ 2  6 10]\n",
      " [ 3  7 11]\n",
      " [ 4  8 12]]\n",
      "Modified array \n",
      "1\n",
      "2\n",
      "3\n",
      "4\n",
      "5\n",
      "6\n",
      "7\n",
      "8\n",
      "9\n",
      "10\n",
      "11\n",
      "12\n"
     ]
    }
   ],
   "source": [
    "# Iterationg the transpose of the above array\n",
    "\n",
    "import numpy as np\n",
    "a = np.arange(1,13)\n",
    "a = a.reshape(3,4)\n",
    "print (\"Original array is:\")\n",
    "print(a)\n",
    "print (\"Transpose of the above array \")\n",
    "b=a.T\n",
    "print(b)\n",
    "print (\"Modified array \")\n",
    "for x in np.nditer(b):\n",
    "    print (x)\n",
    "\n",
    "# Note: The order of iteration is chosen to match the memory layout of an array, \n",
    "#       without considering a particular ordering. \n",
    "#       This can be seen by iterating over the transpose of the above array."
   ]
  },
  {
   "cell_type": "code",
   "execution_count": 44,
   "metadata": {},
   "outputs": [
    {
     "name": "stdout",
     "output_type": "stream",
     "text": [
      "Original array is:\n",
      "[[ 1  2  3  4]\n",
      " [ 5  6  7  8]\n",
      " [ 9 10 11 12]]\n",
      "Transpose of the above array \n",
      "[[ 1  5  9]\n",
      " [ 2  6 10]\n",
      " [ 3  7 11]\n",
      " [ 4  8 12]]\n",
      "Modified array \n",
      "1\n",
      "5\n",
      "9\n",
      "2\n",
      "6\n",
      "10\n",
      "3\n",
      "7\n",
      "11\n",
      "4\n",
      "8\n",
      "12\n"
     ]
    }
   ],
   "source": [
    "# Iteration Order -  C-Style\n",
    "\n",
    "import numpy as np\n",
    "a = np.arange(1,13)\n",
    "a = a.reshape(3,4)\n",
    "print (\"Original array is:\")\n",
    "print(a)\n",
    "print (\"Transpose of the above array \")\n",
    "b=a.T\n",
    "print(b)\n",
    "\n",
    "c= b.copy(order='C')\n",
    "print (\"Modified array \")\n",
    "for x in np.nditer(c):\n",
    "    print (x)\n",
    "\n",
    "# Note: If the same elements are stored using C-style order, \n",
    "#       the iterator chooses the more efficient way of iterating over an array.\n",
    "\n"
   ]
  },
  {
   "cell_type": "code",
   "execution_count": 45,
   "metadata": {},
   "outputs": [
    {
     "name": "stdout",
     "output_type": "stream",
     "text": [
      "Original array is:\n",
      "[[ 1  2  3  4]\n",
      " [ 5  6  7  8]\n",
      " [ 9 10 11 12]]\n",
      "Transpose of the above array \n",
      "[[ 1  5  9]\n",
      " [ 2  6 10]\n",
      " [ 3  7 11]\n",
      " [ 4  8 12]]\n",
      "Modified array \n",
      "1\n",
      "2\n",
      "3\n",
      "4\n",
      "5\n",
      "6\n",
      "7\n",
      "8\n",
      "9\n",
      "10\n",
      "11\n",
      "12\n"
     ]
    }
   ],
   "source": [
    "# Iteration Order -  F-Style\n",
    "\n",
    "import numpy as np\n",
    "a = np.arange(1,13)\n",
    "a = a.reshape(3,4)\n",
    "print (\"Original array is:\")\n",
    "print(a)\n",
    "print (\"Transpose of the above array \")\n",
    "b=a.T\n",
    "print(b)\n",
    "\n",
    "c= b.copy(order='F')\n",
    "print (\"Modified array \")\n",
    "for x in np.nditer(c):\n",
    "    print (x)\n",
    "\n",
    "# Note: If the same elements are stored using F-style order, \n",
    "#       the iterator chooses the more efficient way of iterating over an array."
   ]
  },
  {
   "cell_type": "code",
   "execution_count": 47,
   "metadata": {},
   "outputs": [
    {
     "name": "stdout",
     "output_type": "stream",
     "text": [
      "Original array is:\n",
      "[[ 1  2  3  4]\n",
      " [ 5  6  7  8]\n",
      " [ 9 10 11 12]]\n",
      "Transpose of the above array \n",
      "[[ 1  5  9]\n",
      " [ 2  6 10]\n",
      " [ 3  7 11]\n",
      " [ 4  8 12]]\n",
      "1\n",
      "5\n",
      "9\n",
      "2\n",
      "6\n",
      "10\n",
      "3\n",
      "7\n",
      "11\n",
      "4\n",
      "8\n",
      "12\n"
     ]
    }
   ],
   "source": [
    "# Specific Order\n",
    "# It is possible to force nditer object to use a specific order by explicitly mentioning it.\n",
    "\n",
    "import numpy as np\n",
    "a = np.arange(1,13)\n",
    "a = a.reshape(3,4)\n",
    "print (\"Original array is:\")\n",
    "print(a)\n",
    "print (\"Transpose of the above array \")\n",
    "b=a.T\n",
    "print(b)\n",
    "\n",
    "\n",
    "for x in np.nditer(b, order='C'):\n",
    "    print (x)"
   ]
  },
  {
   "cell_type": "code",
   "execution_count": 53,
   "metadata": {},
   "outputs": [
    {
     "name": "stdout",
     "output_type": "stream",
     "text": [
      "Original array is:\n",
      "[[ 1  2  3  4]\n",
      " [ 5  6  7  8]\n",
      " [ 9 10 11 12]]\n",
      "Modified array \n",
      "[[ 2  4  6  8]\n",
      " [10 12 14 16]\n",
      " [18 20 22 24]]\n"
     ]
    }
   ],
   "source": [
    "# Modifying Array Values using op_flags\n",
    "\n",
    "import numpy as np\n",
    "a = np.arange(1,13)\n",
    "a = a.reshape(3,4)\n",
    "print (\"Original array is:\")\n",
    "print(a)\n",
    "print (\"Modified array \")\n",
    "\n",
    "for x in np.nditer(a, op_flags=['readwrite']):\n",
    "    x[...]=x*2\n",
    "print (a)\n",
    "\n"
   ]
  },
  {
   "cell_type": "code",
   "execution_count": 56,
   "metadata": {},
   "outputs": [
    {
     "name": "stdout",
     "output_type": "stream",
     "text": [
      "Original array is:\n",
      "[[ 1.  2.  3.  4.]\n",
      " [ 5.  6.  7.  8.]\n",
      " [ 9. 10. 11. 12.]]\n",
      "Modified array \n",
      "[[0.25 0.5  0.75 1.  ]\n",
      " [1.25 1.5  1.75 2.  ]\n",
      " [2.25 2.5  2.75 3.  ]]\n"
     ]
    }
   ],
   "source": [
    "# Modifying Array Values using op_flags\n",
    "\n",
    "import numpy as np\n",
    "a = np.arange(1,13, dtype=\"float32\")\n",
    "a = a.reshape(3,4)\n",
    "print (\"Original array is:\")\n",
    "print(a)\n",
    "print (\"Modified array \")\n",
    "\n",
    "for x in np.nditer(a, op_flags=['readwrite']):\n",
    "    x[...]=(x*25)/100\n",
    "print (a)\n"
   ]
  },
  {
   "cell_type": "code",
   "execution_count": 57,
   "metadata": {},
   "outputs": [
    {
     "name": "stdout",
     "output_type": "stream",
     "text": [
      "Original array is:\n",
      "[[ 1.  2.  3.  4.]\n",
      " [ 5.  6.  7.  8.]\n",
      " [ 9. 10. 11. 12.]]\n",
      "Modified array \n",
      "[1. 5. 9.]\n",
      "[ 2.  6. 10.]\n",
      "[ 3.  7. 11.]\n",
      "[ 4.  8. 12.]\n"
     ]
    }
   ],
   "source": [
    "# nditer - external loop\n",
    "\n",
    "import numpy as np\n",
    "a = np.arange(1,13, dtype=\"float32\")\n",
    "a = a.reshape(3,4)\n",
    "print (\"Original array is:\")\n",
    "print(a)\n",
    "print (\"Modified array \")\n",
    "\n",
    "for x in np.nditer(a, flags=['external_loop'], order='F'):\n",
    "    print (x)\n",
    "    \n",
    "# Note: One-dimensional arrays corresponding to each column is traversed by the iterator."
   ]
  },
  {
   "cell_type": "code",
   "execution_count": 2,
   "metadata": {},
   "outputs": [
    {
     "name": "stdout",
     "output_type": "stream",
     "text": [
      "Array 1\n",
      "[[ 1  2  3  4]\n",
      " [ 5  6  7  8]\n",
      " [ 9 10 11 12]]\n",
      "Array 2 \n",
      "[1, 2, 3, 4]\n",
      "Modified Array \n",
      "1 1\n",
      "2 2\n",
      "3 3\n",
      "4 4\n",
      "5 1\n",
      "6 2\n",
      "7 3\n",
      "8 4\n",
      "9 1\n",
      "10 2\n",
      "11 3\n",
      "12 4\n"
     ]
    }
   ],
   "source": [
    "# Broadcasting Iteration\n",
    "\n",
    "import numpy as np\n",
    "a = np.arange(1,13)\n",
    "a = a.reshape(3,4)\n",
    "print (\"Array 1\")\n",
    "print(a)\n",
    "print (\"Array 2 \")\n",
    "b = [1,2,3,4]\n",
    "print(b)\n",
    "print (\"Modified Array \")\n",
    "for x,y in np.nditer([a,b]):\n",
    "    print (x,y)\n",
    "    \n",
    "\n",
    "# Note: If two arrays are broadcastable, a combined nditer object is able to iterate upon them concurrently. Assuming that an array a has dimension 3X4, and there is another array b of dimension 1X4, the iterator of following type is used (array b is broadcast to size of a)."
   ]
  },
  {
   "cell_type": "code",
   "execution_count": null,
   "metadata": {},
   "outputs": [],
   "source": [
    "******************   NumPy - Array Manipulation    *******************\n",
    "\n",
    "NumPy package for manipulation of elements in ndarray object\n",
    "\n",
    "**Changing Shape\n",
    "    1. reshape\n",
    "    2. flat\n",
    "    3. flatten\n",
    "    4. ravel\n",
    "\n",
    "** Tanspose Operation\n",
    "    1. transpose\n",
    "    2. ndarray.T\n",
    "    3. rollaxis\n",
    "    4. swapaxes\n"
   ]
  },
  {
   "cell_type": "code",
   "execution_count": 1,
   "metadata": {},
   "outputs": [
    {
     "name": "stdout",
     "output_type": "stream",
     "text": [
      "[[1 2]\n",
      " [3 4]\n",
      " [5 6]]\n"
     ]
    }
   ],
   "source": [
    "# ndarray.reshape - Gives a new shape to an array without changing its data\n",
    "\n",
    "import numpy as np\n",
    "a=np.array([[1,2,3],[4,5,6]])    # 2rows 3 columns resize to 3 rows 2 column\n",
    "b=a.reshape(3,2)\n",
    "print(b)"
   ]
  },
  {
   "cell_type": "code",
   "execution_count": 4,
   "metadata": {},
   "outputs": [
    {
     "name": "stdout",
     "output_type": "stream",
     "text": [
      "6\n"
     ]
    }
   ],
   "source": [
    "# ndarray.flat - This function returns a 1-D iterator over the array\n",
    "import numpy as np\n",
    "a=np.array([[1,2,3],[4,5,6]])   \n",
    "print(a.flat[5])"
   ]
  },
  {
   "cell_type": "code",
   "execution_count": 9,
   "metadata": {},
   "outputs": [
    {
     "name": "stdout",
     "output_type": "stream",
     "text": [
      "[1 2 3 4 5 6]\n",
      "[1 4 2 5 3 6]\n"
     ]
    }
   ],
   "source": [
    "# ndarray.flatten - This function returns a copy of an array collapsed into one dimension.\n",
    "import numpy as np\n",
    "a=np.array([[1,2,3],[4,5,6]])   \n",
    "print(a.flatten())    # default order is C-syle ordering\n",
    "\n",
    "print(a.flatten(order='F'))  # Specifying F-Style order "
   ]
  },
  {
   "cell_type": "code",
   "execution_count": 12,
   "metadata": {},
   "outputs": [
    {
     "name": "stdout",
     "output_type": "stream",
     "text": [
      "[1 2 3 4 5 6]\n"
     ]
    }
   ],
   "source": [
    "# ndarray.ravel - This function returns a flattened one-dimensional array. The returned array will have the same type as that of the input array. The function takes one parameter.\n",
    "\n",
    "import numpy as np\n",
    "a=np.array([[1,2,3],[4,5,6]])   \n",
    "\n",
    "print(a.ravel())"
   ]
  },
  {
   "cell_type": "code",
   "execution_count": 3,
   "metadata": {},
   "outputs": [
    {
     "name": "stdout",
     "output_type": "stream",
     "text": [
      "[[ 1  2  3]\n",
      " [ 4  5  6]\n",
      " [ 7  8  9]\n",
      " [10 11 12]]\n",
      "[[ 1  4  7 10]\n",
      " [ 2  5  8 11]\n",
      " [ 3  6  9 12]]\n"
     ]
    }
   ],
   "source": [
    "# numpy.transpose - This function permutes the dimension of the given array.\n",
    "\n",
    "import numpy as np\n",
    "a=np.array([[1,2,3],[4,5,6],[7,8,9],[10,11,12]])\n",
    "print (a)\n",
    "\n",
    "b=np.transpose(a)\n",
    "print (b)"
   ]
  },
  {
   "cell_type": "code",
   "execution_count": 5,
   "metadata": {},
   "outputs": [
    {
     "name": "stdout",
     "output_type": "stream",
     "text": [
      "[[ 1  2  3]\n",
      " [ 4  5  6]\n",
      " [ 7  8  9]\n",
      " [10 11 12]]\n",
      "[[ 1  4  7 10]\n",
      " [ 2  5  8 11]\n",
      " [ 3  6  9 12]]\n"
     ]
    }
   ],
   "source": [
    "# numpy.ndarray.T - similar to the numpy.transpose\n",
    "\n",
    "import numpy as np\n",
    "a=np.array([[1,2,3],[4,5,6],[7,8,9],[10,11,12]])\n",
    "print (a)\n",
    "\n",
    "b=a.T\n",
    "print (b)"
   ]
  },
  {
   "cell_type": "code",
   "execution_count": 6,
   "metadata": {},
   "outputs": [
    {
     "name": "stdout",
     "output_type": "stream",
     "text": [
      "[[[0 1]\n",
      "  [2 3]]\n",
      "\n",
      " [[4 5]\n",
      "  [6 7]]]\n",
      "\n",
      "[[[0 4]\n",
      "  [2 6]]\n",
      "\n",
      " [[1 5]\n",
      "  [3 7]]]\n"
     ]
    }
   ],
   "source": [
    "# numpy.swapaxes - This function interchanges the two axes of an array. \n",
    "import numpy as np \n",
    "a = np.arange(8).reshape(2,2,2) \n",
    "print (a)\n",
    "print(\"\")\n",
    "# now swap numbers between axis 0 (along depth) and axis 2 (along width)\n",
    "print (np.swapaxes(a,2,0))  "
   ]
  },
  {
   "cell_type": "code",
   "execution_count": 30,
   "metadata": {},
   "outputs": [
    {
     "name": "stdout",
     "output_type": "stream",
     "text": [
      "[[[0 1]\n",
      "  [2 3]]\n",
      "\n",
      " [[4 5]\n",
      "  [6 7]]]\n",
      "\n",
      "[[[0 1]\n",
      "  [4 5]]\n",
      "\n",
      " [[2 3]\n",
      "  [6 7]]]\n"
     ]
    }
   ],
   "source": [
    "# numpy.swapaxes - This function interchanges the two axes of an array. \n",
    "import numpy as np \n",
    "a = np.arange(8).reshape(2,2,2) \n",
    "print (a)\n",
    "print(\"\")\n",
    "# now swap numbers between axis 1 (along depth) and axis 0 (along width)\n",
    "print (np.swapaxes(a,0,1))  "
   ]
  },
  {
   "cell_type": "code",
   "execution_count": 59,
   "metadata": {},
   "outputs": [
    {
     "name": "stdout",
     "output_type": "stream",
     "text": [
      "Array a\n",
      "[[ 0  1  2]\n",
      " [ 3  4  5]\n",
      " [ 6  7  8]\n",
      " [ 9 10 11]]\n",
      "\n",
      "Array b\n",
      "[[[ 0  1  2]]\n",
      "\n",
      " [[ 3  4  5]]\n",
      "\n",
      " [[ 6  7  8]]\n",
      "\n",
      " [[ 9 10 11]]]\n",
      "(4, 3)\n",
      "(4, 1, 3)\n"
     ]
    }
   ],
   "source": [
    "# numpy.expand_dims - This function expands the array by inserting a new axis at the specified position.\n",
    "# Example - Two Dimensional array\n",
    "\n",
    "import numpy as np \n",
    "a = np.arange(12).reshape(4,3) \n",
    "print(\"Array a\")\n",
    "print (a)\n",
    "print(\"\")\n",
    "\n",
    "b=np.expand_dims(a, axis=1)\n",
    "print(\"Array b\")\n",
    "print(b)\n",
    "print (a.shape)\n",
    "print (b.shape)\n",
    "\n",
    "# Note: Look at the output carefully to see the difference between array a and array b.\n",
    "# Note: Try changing the axis to  axis=1, axis 3 etc to see difference"
   ]
  },
  {
   "cell_type": "code",
   "execution_count": 57,
   "metadata": {},
   "outputs": [
    {
     "name": "stdout",
     "output_type": "stream",
     "text": [
      "Array a\n",
      "[[[ 0  1]\n",
      "  [ 2  3]]\n",
      "\n",
      " [[ 4  5]\n",
      "  [ 6  7]]\n",
      "\n",
      " [[ 8  9]\n",
      "  [10 11]]]\n",
      "\n",
      "Array b\n",
      "[[[[ 0  1]\n",
      "   [ 2  3]]\n",
      "\n",
      "  [[ 4  5]\n",
      "   [ 6  7]]\n",
      "\n",
      "  [[ 8  9]\n",
      "   [10 11]]]]\n",
      "(3, 2, 2)\n",
      "(1, 3, 2, 2)\n"
     ]
    }
   ],
   "source": [
    "# numpy.expand_dims - This function expands the array by inserting a new axis at the specified position.\n",
    "# Example - Three Dimensional array\n",
    "\n",
    "import numpy as np \n",
    "a = np.arange(12).reshape(3,2,2) \n",
    "print(\"Array a\")\n",
    "print (a)\n",
    "print(\"\")\n",
    "\n",
    "b=np.expand_dims(a, axis=0)\n",
    "print(\"Array b\")\n",
    "print(b)\n",
    "print (a.shape)\n",
    "print (b.shape)\n",
    "\n",
    "# Note: Look at the output carefully to see the difference between array a and array b.\n",
    "# Note: Try changing the axis to  axis=1, axis 3 etc to see difference"
   ]
  },
  {
   "cell_type": "code",
   "execution_count": 64,
   "metadata": {},
   "outputs": [
    {
     "name": "stdout",
     "output_type": "stream",
     "text": [
      "The original array:\n",
      "[[[0 1 2 3]\n",
      "  [4 5 6 7]]]\n",
      "\n",
      "\n",
      "After applying the broadcast_to function:\n",
      "[[0 1 2 3]\n",
      " [4 5 6 7]]\n"
     ]
    }
   ],
   "source": [
    "# numpy.squeeze - This function removes one-dimensional entry from the shape of the given array. \n",
    "\n",
    "import numpy as np \n",
    "a = np.arange(8).reshape(1,2,4) \n",
    "print ('The original array:') \n",
    "print (a)\n",
    "print(\"\\n\")\n",
    "\n",
    "print ('After applying the squeeze function:') \n",
    "b=np.squeeze(a)\n",
    "print(b)\n"
   ]
  },
  {
   "cell_type": "code",
   "execution_count": 70,
   "metadata": {},
   "outputs": [
    {
     "name": "stdout",
     "output_type": "stream",
     "text": [
      "The original array:\n",
      "[[0 1 2 3]]\n",
      "\n",
      "\n",
      "After applying the broadcast_to function:\n",
      "[[0 1 2 3]\n",
      " [0 1 2 3]\n",
      " [0 1 2 3]\n",
      " [0 1 2 3]]\n"
     ]
    }
   ],
   "source": [
    "# np.broadcast_to - This function broadcasts an array to a new shape.\n",
    "\n",
    "import numpy as np \n",
    "a = np.arange(4).reshape(1,4) \n",
    "\n",
    "print ('The original array:') \n",
    "print (a )\n",
    "print ('\\n' ) \n",
    "\n",
    "print ('After applying the broadcast_to function:') \n",
    "print (np.broadcast_to(a,(4,4)))"
   ]
  },
  {
   "cell_type": "code",
   "execution_count": 83,
   "metadata": {},
   "outputs": [
    {
     "name": "stdout",
     "output_type": "stream",
     "text": [
      "First array:\n",
      "[[1 2]\n",
      " [3 4]]\n",
      "Second array:\n",
      "[[5 6]\n",
      " [7 8]]\n",
      "Joining the two arrays along axis 0:\n",
      "[[1 2]\n",
      " [3 4]\n",
      " [5 6]\n",
      " [7 8]]\n",
      "Joining the two arrays along axis 1:\n",
      "[[1 2 5 6]\n",
      " [3 4 7 8]]\n"
     ]
    }
   ],
   "source": [
    "# numpy.concatenate - This function is used to join two or more arrays of the same shape along a specified axis.\n",
    "\n",
    "import numpy as np \n",
    "a = np.array([[1,2],[3,4]]) \n",
    "b = np.array([[5,6],[7,8]]) \n",
    "\n",
    "print ('First array:') \n",
    "print (a) \n",
    "print ('Second array:') \n",
    "print (b )\n",
    "\n",
    "print ('Joining the two arrays along axis 0:') \n",
    "print (np.concatenate((a,b)))            # Default axis is 0 \n",
    "\n",
    "print ('Joining the two arrays along axis 1:') \n",
    "print (np.concatenate((a,b),axis = 1))"
   ]
  },
  {
   "cell_type": "code",
   "execution_count": 88,
   "metadata": {},
   "outputs": [
    {
     "name": "stdout",
     "output_type": "stream",
     "text": [
      "First array:\n",
      "[[1 2]\n",
      " [3 4]]\n",
      "Second array:\n",
      "[[5 6]\n",
      " [7 8]]\n",
      "Joining the sequence of two arrays along axis 0:\n",
      "[[[1 2]\n",
      "  [3 4]]\n",
      "\n",
      " [[5 6]\n",
      "  [7 8]]]\n",
      "Joining the sequence of two arrays along axis 1:\n",
      "[[[1 2]\n",
      "  [5 6]]\n",
      "\n",
      " [[3 4]\n",
      "  [7 8]]]\n"
     ]
    }
   ],
   "source": [
    "# numpy.stack - This function joins the sequence of arrays along a new axis.\n",
    "\n",
    "import numpy as np \n",
    "a = np.array([[1,2],[3,4]]) \n",
    "b = np.array([[5,6],[7,8]]) \n",
    "\n",
    "print ('First array:') \n",
    "print (a) \n",
    "print ('Second array:') \n",
    "print (b )\n",
    "\n",
    "print ('Joining the sequence of two arrays along axis 0:') \n",
    "print (np.stack((a,b)))            # Default axis is 0 \n",
    "\n",
    "print ('Joining the sequence of two arrays along axis 1:') \n",
    "print (np.stack((a,b),axis = 1))\n",
    "\n",
    "\n",
    "# Note:  Look the output of numpy.concatenate and numpy.stack carefully to see the difference."
   ]
  },
  {
   "cell_type": "code",
   "execution_count": 92,
   "metadata": {},
   "outputs": [
    {
     "name": "stdout",
     "output_type": "stream",
     "text": [
      "First array:\n",
      "[[1 2]\n",
      " [3 4]]\n",
      "Second array:\n",
      "[[5 6]\n",
      " [7 8]]\n",
      "stack horizondally\n",
      "[[1 2 5 6]\n",
      " [3 4 7 8]]\n"
     ]
    }
   ],
   "source": [
    "# numpy.hstack - Variants of numpy.stack function to stack so as to make a single array horizontally.\n",
    "\n",
    "import numpy as np \n",
    "a = np.array([[1,2],[3,4]]) \n",
    "b = np.array([[5,6],[7,8]]) \n",
    "\n",
    "print ('First array:') \n",
    "print (a) \n",
    "print ('Second array:') \n",
    "print (b )\n",
    "\n",
    "print ('stack horizondally') \n",
    "print (np.hstack((a,b)))        "
   ]
  },
  {
   "cell_type": "code",
   "execution_count": 93,
   "metadata": {},
   "outputs": [
    {
     "name": "stdout",
     "output_type": "stream",
     "text": [
      "First array:\n",
      "[[1 2]\n",
      " [3 4]]\n",
      "Second array:\n",
      "[[5 6]\n",
      " [7 8]]\n",
      "stack vertically\n",
      "[[1 2]\n",
      " [3 4]\n",
      " [5 6]\n",
      " [7 8]]\n"
     ]
    }
   ],
   "source": [
    "# numpy.vstack - Variants of numpy.stack function to stack so as to make a single array vertically.\n",
    "\n",
    "import numpy as np \n",
    "a = np.array([[1,2],[3,4]]) \n",
    "b = np.array([[5,6],[7,8]]) \n",
    "\n",
    "print ('First array:') \n",
    "print (a) \n",
    "print ('Second array:') \n",
    "print (b )\n",
    "\n",
    "print ('stack vertically') \n",
    "print (np.vstack((a,b)))  "
   ]
  },
  {
   "cell_type": "code",
   "execution_count": 5,
   "metadata": {},
   "outputs": [
    {
     "name": "stdout",
     "output_type": "stream",
     "text": [
      "[0 1 2 3 4 5]\n",
      "[array([0, 1]), array([2, 3]), array([4, 5])]\n",
      "[array([0, 1]), array([2, 3, 4]), array([5])]\n"
     ]
    }
   ],
   "source": [
    "# numpy.split - This function divides the array into subarrays along a specified axis.\n",
    "\n",
    "import numpy as np\n",
    "a=np.arange(6)\n",
    "print(a)\n",
    "\n",
    "b=np.split(a,3)   # Split the array in 3 equal-sized subarrays\n",
    "print(b)\n",
    "\n",
    "b=np.split(a,[2,5])   # Split the array at positions indicated in 1-D array\n",
    "print(b)"
   ]
  },
  {
   "cell_type": "code",
   "execution_count": 13,
   "metadata": {},
   "outputs": [
    {
     "name": "stdout",
     "output_type": "stream",
     "text": [
      "[[ 0  1  2  3]\n",
      " [ 4  5  6  7]\n",
      " [ 8  9 10 11]]\n",
      "[array([[0, 1],\n",
      "       [4, 5],\n",
      "       [8, 9]]), array([[ 2,  3],\n",
      "       [ 6,  7],\n",
      "       [10, 11]])]\n"
     ]
    }
   ],
   "source": [
    "# numpy.hsplit - This function split array horizondally\n",
    "\n",
    "import numpy as np\n",
    "a=np.arange(12).reshape(3,4)\n",
    "print(a)\n",
    "\n",
    "b=np.hsplit(a,2)   # Split the array horizondally\n",
    "print(b)\n"
   ]
  },
  {
   "cell_type": "code",
   "execution_count": 11,
   "metadata": {},
   "outputs": [
    {
     "name": "stdout",
     "output_type": "stream",
     "text": [
      "[[ 0  1  2  3]\n",
      " [ 4  5  6  7]\n",
      " [ 8  9 10 11]]\n",
      "[array([[0, 1, 2, 3]]), array([[4, 5, 6, 7]]), array([[ 8,  9, 10, 11]])]\n"
     ]
    }
   ],
   "source": [
    "# numpy.vsplit - This function split array vertically\n",
    "\n",
    "import numpy as np\n",
    "a=np.arange(12).reshape(3,4)\n",
    "print(a)\n",
    "\n",
    "b=np.vsplit(a,3)   # Split the array vertically\n",
    "print(b)\n"
   ]
  },
  {
   "cell_type": "code",
   "execution_count": 3,
   "metadata": {},
   "outputs": [
    {
     "name": "stdout",
     "output_type": "stream",
     "text": [
      "[[ 0  1  2  3]\n",
      " [ 4  5  6  7]\n",
      " [ 8  9 10 11]]\n",
      "\n",
      " Resized array\n",
      "[[ 0  1  2]\n",
      " [ 3  4  5]\n",
      " [ 6  7  8]\n",
      " [ 9 10 11]]\n"
     ]
    }
   ],
   "source": [
    "# numpy.resize - This function returns a new array with the specified size.\n",
    "\n",
    "import numpy as np\n",
    "a=np.arange(12).reshape(3,4)\n",
    "print(a)\n",
    "print ('\\n Resized array') \n",
    "b=np.resize(a,[4,3])   # Resizing the array\n",
    "print(b)\n"
   ]
  },
  {
   "cell_type": "code",
   "execution_count": 12,
   "metadata": {},
   "outputs": [
    {
     "name": "stdout",
     "output_type": "stream",
     "text": [
      "[[ 0  1  2  3]\n",
      " [ 4  5  6  7]\n",
      " [ 8  9 10 11]]\n",
      "\n",
      " Resized array\n",
      "[ 0  1  2  3  4  5  6  7  8  9 10 11 11 22 33]\n"
     ]
    }
   ],
   "source": [
    "# numpy.append - This function adds values at the end of an input array.\n",
    "\n",
    "import numpy as np\n",
    "a=np.arange(12).reshape(3,4)\n",
    "print(a)\n",
    "print ('\\n Resized array') \n",
    "b=np.append(a,[[11,22,33]])   # Adding new values to the array a\n",
    "print(b)\n"
   ]
  },
  {
   "cell_type": "code",
   "execution_count": 7,
   "metadata": {},
   "outputs": [
    {
     "name": "stdout",
     "output_type": "stream",
     "text": [
      "[[ 0  1  2  3]\n",
      " [ 4  5  6  7]\n",
      " [ 8  9 10 11]]\n",
      "\n",
      " Resized array\n",
      "[ 0  1  2  3  4  5  6  7  8  9 10 11 11 22 33]\n"
     ]
    }
   ],
   "source": [
    "# numpy.append - This function adds values at the end of an input array.\n",
    "\n",
    "import numpy as np\n",
    "a=np.arange(12).reshape(3,4)\n",
    "print(a)\n",
    "print ('\\n Resized array') \n",
    "b=np.append(a,[[11,22,33]])   # Adding new values to the array a\n",
    "print(b)"
   ]
  },
  {
   "cell_type": "code",
   "execution_count": 9,
   "metadata": {},
   "outputs": [
    {
     "name": "stdout",
     "output_type": "stream",
     "text": [
      "[[ 0  1  2  3]\n",
      " [ 4  5  6  7]\n",
      " [ 8  9 10 11]]\n",
      "\n",
      " Resized array\n",
      "[[ 0  1  2  3]\n",
      " [ 4  5  6  7]\n",
      " [ 8  9 10 11]\n",
      " [11 22 33 44]]\n"
     ]
    }
   ],
   "source": [
    "# numpy.append -Setting axis\n",
    "\n",
    "import numpy as np\n",
    "a=np.arange(12).reshape(3,4)\n",
    "print(a)\n",
    "print ('\\n Resized array') \n",
    "b=np.append(a,[[11,22,33,44]],axis=0)   # Adding new row values\n",
    "print(b)\n"
   ]
  },
  {
   "cell_type": "code",
   "execution_count": 22,
   "metadata": {},
   "outputs": [
    {
     "name": "stdout",
     "output_type": "stream",
     "text": [
      "[[ 0  1  2  3]\n",
      " [ 4  5  6  7]\n",
      " [ 8  9 10 11]]\n",
      "\n",
      " Resized array\n",
      "[ 0  1  2  3 11 22 33 44  4  5  6  7  8  9 10 11]\n"
     ]
    }
   ],
   "source": [
    "# numpy.insert - This function inserts values in the input array along the given axis and before the given index.\n",
    "\n",
    "import numpy as np\n",
    "a=np.arange(12).reshape(3,4)\n",
    "print(a)\n",
    "print ('\\n Resized array') \n",
    "b=np.insert(a,4, [11,22,33,44])   # Inserting new rows\n",
    "print(b)\n"
   ]
  },
  {
   "cell_type": "code",
   "execution_count": 43,
   "metadata": {},
   "outputs": [
    {
     "name": "stdout",
     "output_type": "stream",
     "text": [
      "[[ 0  1  2  3]\n",
      " [ 4  5  6  7]\n",
      " [ 8  9 10 11]]\n",
      "\n",
      " Resized array\n",
      "[[ 0  1  2  3]\n",
      " [11 11 11 11]\n",
      " [ 4  5  6  7]\n",
      " [ 8  9 10 11]]\n"
     ]
    }
   ],
   "source": [
    "# numpy.insert - Using axis\n",
    "\n",
    "import numpy as np\n",
    "a=np.arange(12).reshape(3,4)\n",
    "print(a)\n",
    "print ('\\n Resized array') \n",
    "b=np.insert(a, 1, [11], axis= 0 )   # Inserting new rows\n",
    "print(b)\n"
   ]
  },
  {
   "cell_type": "code",
   "execution_count": 44,
   "metadata": {},
   "outputs": [
    {
     "name": "stdout",
     "output_type": "stream",
     "text": [
      "[[ 0  1  2  3]\n",
      " [ 4  5  6  7]\n",
      " [ 8  9 10 11]]\n",
      "\n",
      " Resized array\n",
      "[[ 0 11  1  2  3]\n",
      " [ 4 11  5  6  7]\n",
      " [ 8 11  9 10 11]]\n"
     ]
    }
   ],
   "source": [
    "# numpy.insert - Using axis\n",
    "\n",
    "import numpy as np\n",
    "a=np.arange(12).reshape(3,4)\n",
    "print(a)\n",
    "print ('\\n Resized array') \n",
    "b=np.insert(a, 1, [11], axis= 1 )   # Inserting new rows\n",
    "print(b)\n"
   ]
  },
  {
   "cell_type": "code",
   "execution_count": 45,
   "metadata": {},
   "outputs": [
    {
     "name": "stdout",
     "output_type": "stream",
     "text": [
      "[[ 0  1  2  3]\n",
      " [ 4  5  6  7]\n",
      " [ 8  9 10 11]]\n",
      "\n",
      " Resized array\n",
      "[ 0  2  3  4  5  6  7  8  9 10 11]\n"
     ]
    }
   ],
   "source": [
    "# numpy.delete - This function returns a new array with the specified subarray deleted from the input array.\n",
    "\n",
    "import numpy as np\n",
    "a=np.arange(12).reshape(3,4)\n",
    "print(a)\n",
    "print ('\\n Resized array') \n",
    "b=np.delete(a, 1)   # Delete a value\n",
    "print(b)"
   ]
  },
  {
   "cell_type": "code",
   "execution_count": 47,
   "metadata": {},
   "outputs": [
    {
     "name": "stdout",
     "output_type": "stream",
     "text": [
      "[[ 0  1  2  3]\n",
      " [ 4  5  6  7]\n",
      " [ 8  9 10 11]]\n",
      "\n",
      " Resized array\n",
      "[[ 0  2  3]\n",
      " [ 4  6  7]\n",
      " [ 8 10 11]]\n"
     ]
    }
   ],
   "source": [
    "# numpy.delete - Using axis\n",
    "\n",
    "import numpy as np\n",
    "a=np.arange(12).reshape(3,4)\n",
    "print(a)\n",
    "print ('\\n Resized array') \n",
    "b=np.delete(a, 1, axis= 1 )   # Deleting a column using row\n",
    "print(b)"
   ]
  },
  {
   "cell_type": "code",
   "execution_count": 53,
   "metadata": {},
   "outputs": [
    {
     "name": "stdout",
     "output_type": "stream",
     "text": [
      "[[1 2 1]\n",
      " [3 1 3]\n",
      " [1 1 2]]\n",
      "\n",
      "\n",
      "[1 2 3]\n"
     ]
    }
   ],
   "source": [
    "# numpy.unique - This function returns an array of unique elements in the input array.\n",
    "\n",
    "import numpy as np\n",
    "a=np.array([[1,2,1],[3,1,3],[1,1,2]])\n",
    "print(a)\n",
    "print('\\n')\n",
    "\n",
    "b=np.unique(a) # Unique elements in the array\n",
    "print(b)"
   ]
  },
  {
   "cell_type": "code",
   "execution_count": 62,
   "metadata": {},
   "outputs": [
    {
     "name": "stdout",
     "output_type": "stream",
     "text": [
      "[[1 2 1]\n",
      " [3 1 3]\n",
      " [1 1 2]]\n",
      "\n",
      "\n",
      "[1 2 3]\n",
      "\n",
      "Printng Indices\n",
      "[0 1 3]\n"
     ]
    }
   ],
   "source": [
    "# numpy.unique - This function returns an array of unique elements in the input array.\n",
    "\n",
    "import numpy as np\n",
    "a=np.array([[1,2,1],[3,1,3],[1,1,2]])\n",
    "print(a)\n",
    "print('\\n')\n",
    "\n",
    "b=np.unique(a) # Unique elements in the array\n",
    "print(b)\n",
    "\n",
    "b,indices=np.unique(a,return_index='true')\n",
    "print(\"\\nPrintng Indices\")\n",
    "print (indices)"
   ]
  },
  {
   "cell_type": "code",
   "execution_count": null,
   "metadata": {},
   "outputs": [],
   "source": [
    "******************   NumPy - Binary Operators    *******************"
   ]
  },
  {
   "cell_type": "code",
   "execution_count": 5,
   "metadata": {},
   "outputs": [
    {
     "name": "stdout",
     "output_type": "stream",
     "text": [
      "0b11011\n"
     ]
    }
   ],
   "source": [
    "# Printing Binary Numbers\n",
    "import numpy as np\n",
    "a=27\n",
    "print (bin(a))\n"
   ]
  },
  {
   "cell_type": "code",
   "execution_count": 12,
   "metadata": {},
   "outputs": [
    {
     "name": "stdout",
     "output_type": "stream",
     "text": [
      "18\n"
     ]
    }
   ],
   "source": [
    "# Bitwise AND Operator \n",
    "# Using function - bitwise_and\n",
    "\n",
    "import numpy as np\n",
    "\n",
    "print (np.bitwise_and(22,26))\n"
   ]
  },
  {
   "cell_type": "code",
   "execution_count": 13,
   "metadata": {},
   "outputs": [
    {
     "name": "stdout",
     "output_type": "stream",
     "text": [
      "30\n"
     ]
    }
   ],
   "source": [
    "# Bitwise OR Operator \n",
    "# Using function - bitwise_or\n",
    "\n",
    "import numpy as np\n",
    "\n",
    "print (np.bitwise_or(22,26))\n"
   ]
  },
  {
   "cell_type": "code",
   "execution_count": 28,
   "metadata": {},
   "outputs": [
    {
     "name": "stdout",
     "output_type": "stream",
     "text": [
      "[-14]\n"
     ]
    }
   ],
   "source": [
    "# Bitwise NOT Operator \n",
    "# Using function - invert\n",
    "\n",
    "import numpy as np\n",
    "\n",
    "print (np.invert([13]))"
   ]
  },
  {
   "cell_type": "code",
   "execution_count": 42,
   "metadata": {},
   "outputs": [
    {
     "name": "stdout",
     "output_type": "stream",
     "text": [
      "00001011\n",
      "44\n",
      "00101100\n"
     ]
    }
   ],
   "source": [
    "# numpy.left_shift()\n",
    "# numpy.left_shift() function shifts the bits in binary representation of an array element to the left by specified positions.\n",
    "\n",
    "import numpy as np\n",
    "print (np.binary_repr(11, width = 8))\n",
    "\n",
    "print (np.left_shift(11,2))\n",
    "\n",
    "print (np.binary_repr(44, width = 8))\n"
   ]
  },
  {
   "cell_type": "code",
   "execution_count": 45,
   "metadata": {},
   "outputs": [
    {
     "name": "stdout",
     "output_type": "stream",
     "text": [
      "00001011\n",
      "2\n",
      "00000010\n"
     ]
    }
   ],
   "source": [
    "# numpy.right_shift()\n",
    "# numpy.right_shift() function shifts the bits in binary representation of an array element to the right by specified positions.\n",
    "\n",
    "import numpy as np\n",
    "print (np.binary_repr(11, width = 8))\n",
    "\n",
    "print (np.right_shift(11,2))\n",
    "\n",
    "print (np.binary_repr(2, width = 8))\n"
   ]
  },
  {
   "cell_type": "code",
   "execution_count": null,
   "metadata": {},
   "outputs": [],
   "source": [
    "*******************   String Functions   *********************"
   ]
  },
  {
   "cell_type": "code",
   "execution_count": 43,
   "metadata": {},
   "outputs": [
    {
     "name": "stdout",
     "output_type": "stream",
     "text": [
      "HelloWorld\n"
     ]
    }
   ],
   "source": [
    "# String Concatenation\n",
    "# Returns element-wise string concatenation for two arrays of str or Unicode\n",
    "\n",
    "import numpy as np\n",
    "\n",
    "print (np.char.add('Hello','World'))\n"
   ]
  },
  {
   "cell_type": "code",
   "execution_count": 44,
   "metadata": {},
   "outputs": [
    {
     "name": "stdout",
     "output_type": "stream",
     "text": [
      "['HelloSuper' 'WorldStar']\n"
     ]
    }
   ],
   "source": [
    "# String Concatenation\n",
    "# Returns element-wise string concatenation for two arrays of str or Unicode\n",
    "\n",
    "import numpy as np\n",
    "\n",
    "print (np.char.add(['Hello','World'],['Super','Star']))"
   ]
  },
  {
   "cell_type": "code",
   "execution_count": 45,
   "metadata": {},
   "outputs": [
    {
     "name": "stdout",
     "output_type": "stream",
     "text": [
      "HelloHelloHello\n"
     ]
    }
   ],
   "source": [
    "# String Multiply\n",
    "# Returns the string with multiple concatenation, element-wise\n",
    "\n",
    "import numpy as np\n",
    "\n",
    "print (np.char.multiply('Hello', 3))"
   ]
  },
  {
   "cell_type": "code",
   "execution_count": 46,
   "metadata": {},
   "outputs": [
    {
     "name": "stdout",
     "output_type": "stream",
     "text": [
      "#######Hello########\n"
     ]
    }
   ],
   "source": [
    "# np.char.center\n",
    "# Returns a copy of the given string with elements centered in a string of specified length\n",
    "\n",
    "import numpy as np\n",
    "\n",
    "print (np.char.center('Hello', 20, fillchar='#'))"
   ]
  },
  {
   "cell_type": "code",
   "execution_count": 47,
   "metadata": {},
   "outputs": [
    {
     "name": "stdout",
     "output_type": "stream",
     "text": [
      "Hello world\n"
     ]
    }
   ],
   "source": [
    "# numpy.char.capitalize()\n",
    "# Returns a copy of the string with only the first character capitalized\n",
    "\n",
    "import numpy as np\n",
    "\n",
    "print (np.char.capitalize('hello world'))\n"
   ]
  },
  {
   "cell_type": "code",
   "execution_count": 48,
   "metadata": {},
   "outputs": [
    {
     "name": "stdout",
     "output_type": "stream",
     "text": [
      "Hello World\n"
     ]
    }
   ],
   "source": [
    "# numpy.char.title()\n",
    "# Returns the element-wise title cased version of the string or unicode\n",
    "\n",
    "import numpy as np\n",
    "\n",
    "print (np.char.title('hello world'))\n"
   ]
  },
  {
   "cell_type": "code",
   "execution_count": 49,
   "metadata": {},
   "outputs": [
    {
     "name": "stdout",
     "output_type": "stream",
     "text": [
      "hello world\n"
     ]
    }
   ],
   "source": [
    "# numpy.char.lower()\n",
    "# Returns an array with the elements converted to lowercase\n",
    "   \n",
    "import numpy as np\n",
    "\n",
    "print (np.char.lower('HELLO WORLD'))\n"
   ]
  },
  {
   "cell_type": "code",
   "execution_count": 50,
   "metadata": {},
   "outputs": [
    {
     "name": "stdout",
     "output_type": "stream",
     "text": [
      "HELLO WORLD\n"
     ]
    }
   ],
   "source": [
    "# numpy.char.upper()\n",
    "# Returns an array with the elements converted to uppercase\n",
    "\n",
    "import numpy as np\n",
    "\n",
    "print (np.char.upper('hello world'))\n"
   ]
  },
  {
   "cell_type": "code",
   "execution_count": 51,
   "metadata": {},
   "outputs": [
    {
     "name": "stdout",
     "output_type": "stream",
     "text": [
      "['hello', 'how', 'are', 'you']\n"
     ]
    }
   ],
   "source": [
    "# numpy.char.split()\n",
    "# Returns a list of the words in the string, using separatordelimiter\n",
    "\n",
    "import numpy as np\n",
    "\n",
    "print (np.char.split('hello how are you'))\n"
   ]
  },
  {
   "cell_type": "code",
   "execution_count": 52,
   "metadata": {},
   "outputs": [
    {
     "name": "stdout",
     "output_type": "stream",
     "text": [
      "['hello,', 'how,', 'are,', 'you']\n"
     ]
    }
   ],
   "source": [
    "# numpy.char.split()\n",
    "# Returns a list of the words in the string, using separatordelimiter\n",
    "\n",
    "import numpy as np\n",
    "\n",
    "print (np.char.split('hello, how, are, you'),sep=',')"
   ]
  },
  {
   "cell_type": "code",
   "execution_count": 53,
   "metadata": {},
   "outputs": [
    {
     "name": "stdout",
     "output_type": "stream",
     "text": [
      "['hello', ' how are you']\n"
     ]
    }
   ],
   "source": [
    "# numpy.char.splitlines()\n",
    "# Returns a list of the lines in the element, breaking at the line boundaries\n",
    "\n",
    "import numpy as np\n",
    "\n",
    "print (np.char.splitlines('hello\\n how are you'))"
   ]
  },
  {
   "cell_type": "code",
   "execution_count": 54,
   "metadata": {},
   "outputs": [
    {
     "name": "stdout",
     "output_type": "stream",
     "text": [
      "ello how are you\n",
      "ello how are you a\n"
     ]
    }
   ],
   "source": [
    "# numpy.char.strip()\n",
    "# Returns a copy with the leading and trailing characters removed\n",
    "\n",
    "import numpy as np\n",
    "print (np.char.strip('hello how are you', 'h'))\n",
    "print (np.char.strip('hello how are you ah', 'h'))"
   ]
  },
  {
   "cell_type": "code",
   "execution_count": 55,
   "metadata": {},
   "outputs": [
    {
     "name": "stdout",
     "output_type": "stream",
     "text": [
      "h-e-l-l-o- -w-o-r-l-d\n"
     ]
    }
   ],
   "source": [
    "# numpy.char.join()\n",
    "# Returns a string which is the concatenation of the strings in the sequence\n",
    "\n",
    "import numpy as np\n",
    "\n",
    "print (np.char.join('-','hello world'))\n"
   ]
  },
  {
   "cell_type": "code",
   "execution_count": 56,
   "metadata": {},
   "outputs": [
    {
     "name": "stdout",
     "output_type": "stream",
     "text": [
      "['h-e-l-l-o' 'w+o+r+l+d']\n"
     ]
    }
   ],
   "source": [
    "# numpy.char.join()\n",
    "# Returns a string which is the concatenation of the strings in the sequence\n",
    "\n",
    "import numpy as np\n",
    "\n",
    "print (np.char.join(['-','+'],['hello', 'world']))"
   ]
  },
  {
   "cell_type": "code",
   "execution_count": 57,
   "metadata": {},
   "outputs": [
    {
     "name": "stdout",
     "output_type": "stream",
     "text": [
      "eello world\n"
     ]
    }
   ],
   "source": [
    "# numpy.char.replace()\n",
    "# Returns a copy of the string with all occurrences of substring replaced by the new string\n",
    "\n",
    "import numpy as np\n",
    "\n",
    "print (np.char.replace('hello world', 'h','e'))"
   ]
  },
  {
   "cell_type": "code",
   "execution_count": 58,
   "metadata": {},
   "outputs": [
    {
     "name": "stdout",
     "output_type": "stream",
     "text": [
      "b'\\x88\\x85\\x93\\x93\\x96@\\xa6\\x96\\x99\\x93\\x84'\n"
     ]
    }
   ],
   "source": [
    "# numpy.char.encode()\n",
    "# Calls str.encode element-wise\n",
    "\n",
    "import numpy as np\n",
    "\n",
    "a= np.char.encode('hello world','cp500')\n",
    "print (a)\n"
   ]
  },
  {
   "cell_type": "code",
   "execution_count": 59,
   "metadata": {},
   "outputs": [
    {
     "name": "stdout",
     "output_type": "stream",
     "text": [
      "b'\\x88\\x85\\x93\\x93\\x96@\\xa6\\x96\\x99\\x93\\x84'\n",
      "hello world\n"
     ]
    }
   ],
   "source": [
    "# numpy.char.decode()\n",
    "# Calls str.decode element-wise\n",
    "\n",
    "import numpy as np\n",
    "\n",
    "a= np.char.encode('hello world','cp500')\n",
    "print (a)\n",
    "\n",
    "print (np.char.decode(a,'cp500'))\n"
   ]
  },
  {
   "cell_type": "code",
   "execution_count": null,
   "metadata": {},
   "outputs": [],
   "source": [
    "********************   Mathematical Functions    ********************"
   ]
  },
  {
   "cell_type": "code",
   "execution_count": 64,
   "metadata": {},
   "outputs": [
    {
     "name": "stdout",
     "output_type": "stream",
     "text": [
      "0.0\n"
     ]
    }
   ],
   "source": [
    "# Finding Sine Values\n",
    "\n",
    "import numpy as np\n",
    "\n",
    "print (np.sin(0))"
   ]
  },
  {
   "cell_type": "code",
   "execution_count": 67,
   "metadata": {},
   "outputs": [
    {
     "name": "stdout",
     "output_type": "stream",
     "text": [
      "1.0\n"
     ]
    }
   ],
   "source": [
    "# Finding Cosine Values\n",
    "\n",
    "import numpy as np\n",
    "\n",
    "print (np.cos(0))"
   ]
  },
  {
   "cell_type": "code",
   "execution_count": 68,
   "metadata": {},
   "outputs": [
    {
     "name": "stdout",
     "output_type": "stream",
     "text": [
      "0.0\n"
     ]
    }
   ],
   "source": [
    "# Finding tangent Values\n",
    "\n",
    "import numpy as np\n",
    "\n",
    "print (np.tan(0))"
   ]
  },
  {
   "cell_type": "code",
   "execution_count": 69,
   "metadata": {},
   "outputs": [
    {
     "name": "stdout",
     "output_type": "stream",
     "text": [
      "0.49999999999999994\n"
     ]
    }
   ],
   "source": [
    "# Finding Sine Values for 30\n",
    "\n",
    "import numpy as np\n",
    "\n",
    "print (np.sin(30*np.pi/180))"
   ]
  },
  {
   "cell_type": "code",
   "execution_count": 70,
   "metadata": {},
   "outputs": [
    {
     "name": "stdout",
     "output_type": "stream",
     "text": [
      "0.8660254037844387\n"
     ]
    }
   ],
   "source": [
    "# Finding Cosine Values for 30\n",
    "\n",
    "import numpy as np\n",
    "\n",
    "print (np.cos(30*np.pi/180))"
   ]
  },
  {
   "cell_type": "code",
   "execution_count": 73,
   "metadata": {},
   "outputs": [
    {
     "name": "stdout",
     "output_type": "stream",
     "text": [
      "[0.00000000e+00 5.00000000e-01 8.66025404e-01 1.00000000e+00\n",
      " 8.66025404e-01 5.00000000e-01 1.22464680e-16]\n"
     ]
    }
   ],
   "source": [
    "# Finding Sine Values for different input\n",
    "\n",
    "import numpy as np\n",
    "\n",
    "a=np.array([0,30,60,90,120,150,180])\n",
    "print (np.sin(a*np.pi/180))"
   ]
  },
  {
   "cell_type": "code",
   "execution_count": 74,
   "metadata": {},
   "outputs": [
    {
     "name": "stdout",
     "output_type": "stream",
     "text": [
      "[ 1.00000000e+00  8.66025404e-01  5.00000000e-01  6.12323400e-17\n",
      " -5.00000000e-01 -8.66025404e-01 -1.00000000e+00]\n"
     ]
    }
   ],
   "source": [
    "# Finding Cosine Values for different input\n",
    "\n",
    "import numpy as np\n",
    "\n",
    "a=np.array([0,30,60,90,120,150,180])\n",
    "print (np.cos(a*np.pi/180))"
   ]
  },
  {
   "cell_type": "code",
   "execution_count": 78,
   "metadata": {},
   "outputs": [
    {
     "name": "stdout",
     "output_type": "stream",
     "text": [
      "[ 0.00000000e+00  5.77350269e-01  1.73205081e+00  1.63312394e+16\n",
      " -1.73205081e+00 -5.77350269e-01 -1.22464680e-16]\n"
     ]
    }
   ],
   "source": [
    "# Finding tangent Values for different input\n",
    "\n",
    "import numpy as np\n",
    "\n",
    "a=np.array([0,30,60,90,120,150,180])\n",
    "print (np.tan(a*np.pi/180))"
   ]
  },
  {
   "cell_type": "code",
   "execution_count": 82,
   "metadata": {},
   "outputs": [
    {
     "name": "stdout",
     "output_type": "stream",
     "text": [
      "[0.00000000e+00 5.23598776e-01 1.04719755e+00 1.57079633e+00\n",
      " 1.04719755e+00 5.23598776e-01 1.22464680e-16]\n"
     ]
    }
   ],
   "source": [
    "# arcsin - Finding inverse of Sine Values for different input\n",
    "\n",
    "import numpy as np\n",
    "\n",
    "a=np.array([0,30,60,90,120,150,180])\n",
    "b= (np.sin(a*np.pi/180))\n",
    "\n",
    "print (np.arcsin(b))"
   ]
  },
  {
   "cell_type": "code",
   "execution_count": 84,
   "metadata": {},
   "outputs": [
    {
     "name": "stdout",
     "output_type": "stream",
     "text": [
      "[0.         0.52359878 1.04719755 1.57079633 2.0943951  2.61799388\n",
      " 3.14159265]\n"
     ]
    }
   ],
   "source": [
    "# arccos - Finding inverse of cosine Values for different input\n",
    "\n",
    "import numpy as np\n",
    "\n",
    "a=np.array([0,30,60,90,120,150,180])\n",
    "b= (np.cos(a*np.pi/180))\n",
    "\n",
    "print (np.arccos(b))"
   ]
  },
  {
   "cell_type": "code",
   "execution_count": 85,
   "metadata": {},
   "outputs": [
    {
     "name": "stdout",
     "output_type": "stream",
     "text": [
      "[ 0.00000000e+00  5.23598776e-01  1.04719755e+00  1.57079633e+00\n",
      " -1.04719755e+00 -5.23598776e-01 -1.22464680e-16]\n"
     ]
    }
   ],
   "source": [
    "# arctan - Finding inverse of tangent Values for different input\n",
    "\n",
    "import numpy as np\n",
    "\n",
    "a=np.array([0,30,60,90,120,150,180])\n",
    "b= (np.tan(a*np.pi/180))\n",
    "\n",
    "print (np.arctan(b))"
   ]
  },
  {
   "cell_type": "code",
   "execution_count": 95,
   "metadata": {},
   "outputs": [
    {
     "name": "stdout",
     "output_type": "stream",
     "text": [
      "[0.00000000e+00 5.23598776e-01 1.04719755e+00 1.57079633e+00\n",
      " 1.04719755e+00 5.23598776e-01 1.22464680e-16]\n",
      "[0. 1. 1. 2. 1. 1. 0.]\n",
      "[0.    0.524 1.047 1.571 1.047 0.524 0.   ]\n"
     ]
    }
   ],
   "source": [
    "# Rounding off\n",
    "import numpy as np\n",
    "\n",
    "a=np.array([0,30,60,90,120,150,180])\n",
    "b= (np.sin(a*np.pi/180))\n",
    "\n",
    "print(np.arcsin(b))\n",
    "c=np.arcsin(b)\n",
    "\n",
    "print(np.round(c))\n",
    "\n",
    "print(np.round(c,decimals=3))"
   ]
  },
  {
   "cell_type": "code",
   "execution_count": null,
   "metadata": {},
   "outputs": [],
   "source": [
    "************************   Arithmetic Operation   ***********************"
   ]
  },
  {
   "cell_type": "code",
   "execution_count": 101,
   "metadata": {},
   "outputs": [
    {
     "name": "stdout",
     "output_type": "stream",
     "text": [
      "[[0 1 2]\n",
      " [3 4 5]\n",
      " [6 7 8]]\n",
      "[[0]\n",
      " [1]\n",
      " [2]]\n",
      "[[ 0  1  2]\n",
      " [ 4  5  6]\n",
      " [ 8  9 10]]\n"
     ]
    }
   ],
   "source": [
    "# Array Addition\n",
    "\n",
    "import numpy as np\n",
    "\n",
    "a=np.arange(9).reshape(3,3)\n",
    "print (a)\n",
    "\n",
    "b=np.arange(3).reshape(3,1)\n",
    "print (b)\n",
    "\n",
    "print(np.add(a,b))"
   ]
  },
  {
   "cell_type": "code",
   "execution_count": 103,
   "metadata": {},
   "outputs": [
    {
     "name": "stdout",
     "output_type": "stream",
     "text": [
      "[[0 1 2]\n",
      " [3 4 5]\n",
      " [6 7 8]]\n",
      "[[0]\n",
      " [1]\n",
      " [2]]\n",
      "[[0 1 2]\n",
      " [2 3 4]\n",
      " [4 5 6]]\n"
     ]
    }
   ],
   "source": [
    "# Array Subtraction\n",
    "\n",
    "import numpy as np\n",
    "\n",
    "a=np.arange(9).reshape(3,3)\n",
    "print (a)\n",
    "\n",
    "b=np.arange(3).reshape(3,1)\n",
    "print (b)\n",
    "\n",
    "print(np.subtract(a,b))"
   ]
  },
  {
   "cell_type": "code",
   "execution_count": 104,
   "metadata": {},
   "outputs": [
    {
     "name": "stdout",
     "output_type": "stream",
     "text": [
      "[[0 1 2]\n",
      " [3 4 5]\n",
      " [6 7 8]]\n",
      "[[0]\n",
      " [1]\n",
      " [2]]\n",
      "[[ 0  0  0]\n",
      " [ 3  4  5]\n",
      " [12 14 16]]\n"
     ]
    }
   ],
   "source": [
    "# Array Multiplication\n",
    "\n",
    "import numpy as np\n",
    "\n",
    "a=np.arange(9).reshape(3,3)\n",
    "print (a)\n",
    "\n",
    "b=np.arange(3).reshape(3,1)\n",
    "print (b)\n",
    "\n",
    "print(np.multiply(a,b))"
   ]
  },
  {
   "cell_type": "code",
   "execution_count": 121,
   "metadata": {},
   "outputs": [
    {
     "name": "stdout",
     "output_type": "stream",
     "text": [
      "[[ 3  4  5]\n",
      " [ 6  7  8]\n",
      " [ 9 10 11]]\n",
      "[[3]\n",
      " [4]\n",
      " [5]]\n",
      "[[1.         1.33333333 1.66666667]\n",
      " [1.5        1.75       2.        ]\n",
      " [1.8        2.         2.2       ]]\n"
     ]
    }
   ],
   "source": [
    "# Array Division\n",
    "\n",
    "import numpy as np\n",
    "\n",
    "a=np.arange(3,12).reshape(3,3)\n",
    "print (a)\n",
    "\n",
    "b=np.arange(3,6).reshape(3,1)\n",
    "print (b)\n",
    "\n",
    "print(np.divide(a,b))"
   ]
  },
  {
   "cell_type": "code",
   "execution_count": 125,
   "metadata": {},
   "outputs": [
    {
     "name": "stdout",
     "output_type": "stream",
     "text": [
      "[0.75  0.373 3.3   0.2  ]\n",
      "[1.33333333 2.68096515 0.3030303  5.        ]\n"
     ]
    }
   ],
   "source": [
    "# Reciprocal of an array\n",
    "\n",
    "import numpy as np\n",
    "\n",
    "a = np.array([0.75, 0.373, 3.3, 0.2]) \n",
    "print (a)\n",
    "\n",
    "print(np.reciprocal(a))"
   ]
  },
  {
   "cell_type": "code",
   "execution_count": 126,
   "metadata": {},
   "outputs": [
    {
     "name": "stdout",
     "output_type": "stream",
     "text": [
      "[0 1 2 3]\n",
      "[0 1 4 9]\n"
     ]
    }
   ],
   "source": [
    "# numpy.power\n",
    "import numpy as np\n",
    "\n",
    "a = np.array([0,1,2,3]) \n",
    "print (a)\n",
    "\n",
    "print(np.power(a,2))"
   ]
  },
  {
   "cell_type": "code",
   "execution_count": 127,
   "metadata": {},
   "outputs": [
    {
     "name": "stdout",
     "output_type": "stream",
     "text": [
      "[0 1 2 3]\n",
      "[  0   1  32 243]\n"
     ]
    }
   ],
   "source": [
    "# numpy.power\n",
    "import numpy as np\n",
    "\n",
    "a = np.array([0,1,2,3]) \n",
    "print (a)\n",
    "\n",
    "print(np.power(a,5))"
   ]
  },
  {
   "cell_type": "code",
   "execution_count": 131,
   "metadata": {},
   "outputs": [
    {
     "name": "stdout",
     "output_type": "stream",
     "text": [
      "[0 1 2 2]\n",
      "[0 1 2 2]\n"
     ]
    }
   ],
   "source": [
    "# numpy.mod and # numpy.remainder\n",
    "import numpy as np\n",
    "\n",
    "a = np.array([0,10,20,30]) \n",
    "b = np.array([1,3,6,7])\n",
    "\n",
    "print(np.mod(a,b))\n",
    "print(np.remainder(a,b))"
   ]
  },
  {
   "cell_type": "code",
   "execution_count": 146,
   "metadata": {},
   "outputs": [
    {
     "name": "stdout",
     "output_type": "stream",
     "text": [
      "[ 0.6 +3.j  -2.4 +0.j   0.  +3.3j  1. +11.j ]\n",
      "[ 0.6 -2.4  0.   1. ]\n"
     ]
    }
   ],
   "source": [
    "# numpy.real() − returns the real part of the complex data type argument.\n",
    "import numpy as np \n",
    "a = np.array([0.6+3j, -2.4, 3.3j , 1+11j]) \n",
    "\n",
    "print (a )\n",
    "\n",
    "print (np.real(a)) "
   ]
  },
  {
   "cell_type": "code",
   "execution_count": 145,
   "metadata": {},
   "outputs": [
    {
     "name": "stdout",
     "output_type": "stream",
     "text": [
      "[ 0.6 +3.j  -2.4 +0.j   0.  +3.3j  1. +11.j ]\n",
      "[ 3.   0.   3.3 11. ]\n"
     ]
    }
   ],
   "source": [
    "# numpy.imag() − returns the imaginary part of the complex data type argument.\n",
    "\n",
    "import numpy as np \n",
    "a = np.array([0.6+3j, -2.4, 3.3j , 1+11j]) \n",
    "\n",
    "print (a )\n",
    "\n",
    "print (np.imag(a)) "
   ]
  },
  {
   "cell_type": "code",
   "execution_count": 144,
   "metadata": {},
   "outputs": [
    {
     "name": "stdout",
     "output_type": "stream",
     "text": [
      "[ 0.6 +3.j  -2.4 +0.j   0.  +3.3j  1. +11.j ]\n",
      "[ 0.6 -3.j  -2.4 -0.j   0.  -3.3j  1. -11.j ]\n"
     ]
    }
   ],
   "source": [
    "# numpy.conj() − returns the complex conjugate, which is obtained by changing the sign of the imaginary part.\n",
    "\n",
    "import numpy as np \n",
    "a = np.array([0.6+3j, -2.4, 3.3j , 1+11j]) \n",
    "\n",
    "print (a )\n",
    "\n",
    "print (np.conj(a)) "
   ]
  },
  {
   "cell_type": "code",
   "execution_count": 143,
   "metadata": {},
   "outputs": [
    {
     "name": "stdout",
     "output_type": "stream",
     "text": [
      "[ 0.6 +3.j  -2.4 +0.j   0.  +3.3j  1. +11.j ]\n",
      "[1.37340077 3.14159265 1.57079633 1.48013644]\n",
      "[ 78.69006753 180.          90.          84.80557109]\n"
     ]
    }
   ],
   "source": [
    "# numpy.angle() − returns the angle of the complex argument. The function has degree parameter. If true, the angle in the degree is returned, otherwise the angle is in radians.\n",
    "import numpy as np \n",
    "a = np.array([0.6+3j, -2.4, 3.3j , 1+11j]) \n",
    "\n",
    "print (a )\n",
    "\n",
    "print (np.angle(a)) \n",
    "print (np.angle(a,deg=True)) "
   ]
  },
  {
   "cell_type": "code",
   "execution_count": null,
   "metadata": {},
   "outputs": [],
   "source": [
    "*********************     NumPy - Statistical Functions    ***********************"
   ]
  },
  {
   "cell_type": "code",
   "execution_count": 2,
   "metadata": {},
   "outputs": [
    {
     "name": "stdout",
     "output_type": "stream",
     "text": [
      "1\n"
     ]
    }
   ],
   "source": [
    "# numpy.amin - return the minimum from the elements in the given array\n",
    "\n",
    "import numpy as np\n",
    "\n",
    "a=np.array([1,2,3])\n",
    "print(np.amin(a))"
   ]
  },
  {
   "cell_type": "code",
   "execution_count": 3,
   "metadata": {},
   "outputs": [
    {
     "name": "stdout",
     "output_type": "stream",
     "text": [
      "3\n"
     ]
    }
   ],
   "source": [
    "# numpy.amax - return the maximum from the elements in the given array\n",
    "\n",
    "import numpy as np\n",
    "\n",
    "a=np.array([1,2,3])\n",
    "print(np.amax(a))"
   ]
  },
  {
   "cell_type": "code",
   "execution_count": 8,
   "metadata": {},
   "outputs": [
    {
     "name": "stdout",
     "output_type": "stream",
     "text": [
      "[1 2 3]\n"
     ]
    }
   ],
   "source": [
    "# numpy.amin - return the minimum from the elements in the given array\n",
    "\n",
    "import numpy as np\n",
    "\n",
    "a=np.array([[1,2,3],[4,5,6],[7,8,9]])\n",
    "print(np.amin(a,0))"
   ]
  },
  {
   "cell_type": "code",
   "execution_count": 10,
   "metadata": {},
   "outputs": [
    {
     "name": "stdout",
     "output_type": "stream",
     "text": [
      "[1 4 7]\n"
     ]
    }
   ],
   "source": [
    "# numpy.amin - return the minimum from the elements in the given array\n",
    "\n",
    "import numpy as np\n",
    "\n",
    "a=np.array([[1,2,3],[4,5,6],[7,8,9]])\n",
    "print(np.amin(a,1))"
   ]
  },
  {
   "cell_type": "code",
   "execution_count": 11,
   "metadata": {},
   "outputs": [
    {
     "name": "stdout",
     "output_type": "stream",
     "text": [
      "[7 8 9]\n"
     ]
    }
   ],
   "source": [
    "# numpy.amax - return the maximum from the elements in the given array\n",
    "\n",
    "import numpy as np\n",
    "\n",
    "a=np.array([[1,2,3],[4,5,6],[7,8,9]])\n",
    "print(np.amax(a,0))"
   ]
  },
  {
   "cell_type": "code",
   "execution_count": 12,
   "metadata": {},
   "outputs": [
    {
     "name": "stdout",
     "output_type": "stream",
     "text": [
      "[3 6 9]\n"
     ]
    }
   ],
   "source": [
    "# numpy.amax - return the maximum from the elements in the given array\n",
    "\n",
    "import numpy as np\n",
    "\n",
    "a=np.array([[1,2,3],[4,5,6],[7,8,9]])\n",
    "print(np.amax(a,1))"
   ]
  },
  {
   "cell_type": "code",
   "execution_count": 13,
   "metadata": {},
   "outputs": [
    {
     "name": "stdout",
     "output_type": "stream",
     "text": [
      "2\n"
     ]
    }
   ],
   "source": [
    "#  numpy.ptp() function returns the range (maximum-minimum) of values along an axis.\n",
    "\n",
    "import numpy as np\n",
    "\n",
    "a=np.array([1,2,3])  # 3-1 = 2\n",
    "print(np.ptp(a))"
   ]
  },
  {
   "cell_type": "code",
   "execution_count": 14,
   "metadata": {},
   "outputs": [
    {
     "name": "stdout",
     "output_type": "stream",
     "text": [
      "[2 2 2]\n"
     ]
    }
   ],
   "source": [
    "#  numpy.ptp() function returns the range (maximum-minimum) of values along an axis.\n",
    "import numpy as np\n",
    "\n",
    "a=np.array([[1,2,3],[4,5,6],[7,8,9]])\n",
    "print(np.ptp(a,1))"
   ]
  },
  {
   "cell_type": "code",
   "execution_count": 15,
   "metadata": {},
   "outputs": [
    {
     "name": "stdout",
     "output_type": "stream",
     "text": [
      "[6 6 6]\n"
     ]
    }
   ],
   "source": [
    "#  numpy.ptp() function returns the range (maximum-minimum) of values along an axis.\n",
    "import numpy as np\n",
    "\n",
    "a=np.array([[1,2,3],[4,5,6],[7,8,9]])\n",
    "print(np.ptp(a,0))"
   ]
  },
  {
   "cell_type": "code",
   "execution_count": 20,
   "metadata": {},
   "outputs": [
    {
     "name": "stdout",
     "output_type": "stream",
     "text": [
      "1.2000000000000002\n"
     ]
    }
   ],
   "source": [
    "# Percentile (or a centile) is a measure used in statistics indicating the value below which a given percentage of observations in a group of observations fall.\n",
    "import numpy as np\n",
    "\n",
    "a=np.array([1,2,3])\n",
    "print(np.percentile(a,10))\n"
   ]
  },
  {
   "cell_type": "code",
   "execution_count": 21,
   "metadata": {},
   "outputs": [
    {
     "name": "stdout",
     "output_type": "stream",
     "text": [
      "3.0\n"
     ]
    }
   ],
   "source": [
    "# Percentile\n",
    "import numpy as np\n",
    "\n",
    "a=np.array([1,2,3])\n",
    "print(np.percentile(a,100))"
   ]
  },
  {
   "cell_type": "code",
   "execution_count": 24,
   "metadata": {},
   "outputs": [
    {
     "name": "stdout",
     "output_type": "stream",
     "text": [
      "90.0\n"
     ]
    }
   ],
   "source": [
    "# Percentile\n",
    "import numpy as np\n",
    "\n",
    "a=np.array([[10,20,30],[40,50,60],[70,80,90]])\n",
    "print(np.percentile(a,100))"
   ]
  },
  {
   "cell_type": "code",
   "execution_count": 25,
   "metadata": {},
   "outputs": [
    {
     "name": "stdout",
     "output_type": "stream",
     "text": [
      "[70. 80. 90.]\n"
     ]
    }
   ],
   "source": [
    "# Percentile\n",
    "import numpy as np\n",
    "\n",
    "a=np.array([[10,20,30],[40,50,60],[70,80,90]])\n",
    "print(np.percentile(a,100,0))"
   ]
  },
  {
   "cell_type": "code",
   "execution_count": 26,
   "metadata": {},
   "outputs": [
    {
     "name": "stdout",
     "output_type": "stream",
     "text": [
      "[30. 60. 90.]\n"
     ]
    }
   ],
   "source": [
    "# Percentile\n",
    "import numpy as np\n",
    "\n",
    "a=np.array([[10,20,30],[40,50,60],[70,80,90]])\n",
    "print(np.percentile(a,100,1))"
   ]
  },
  {
   "cell_type": "code",
   "execution_count": 28,
   "metadata": {},
   "outputs": [
    {
     "name": "stdout",
     "output_type": "stream",
     "text": [
      "50.0\n"
     ]
    }
   ],
   "source": [
    "# Median is defined as the value separating the higher half of a data sample from the lower half.\n",
    "\n",
    "import numpy as np\n",
    "\n",
    "a=np.array([[10,20,30],[40,50,60],[70,80,90]])\n",
    "print(np.median(a))\n"
   ]
  },
  {
   "cell_type": "code",
   "execution_count": 29,
   "metadata": {},
   "outputs": [
    {
     "name": "stdout",
     "output_type": "stream",
     "text": [
      "[20. 50. 80.]\n"
     ]
    }
   ],
   "source": [
    "# Median\n",
    "import numpy as np\n",
    "\n",
    "a=np.array([[10,20,30],[40,50,60],[70,80,90]])\n",
    "print(np.median(a,1))"
   ]
  },
  {
   "cell_type": "code",
   "execution_count": 30,
   "metadata": {},
   "outputs": [
    {
     "name": "stdout",
     "output_type": "stream",
     "text": [
      "[40. 50. 60.]\n"
     ]
    }
   ],
   "source": [
    "# Median\n",
    "import numpy as np\n",
    "\n",
    "a=np.array([[10,20,30],[40,50,60],[70,80,90]])\n",
    "print(np.median(a,0))"
   ]
  },
  {
   "cell_type": "code",
   "execution_count": 31,
   "metadata": {},
   "outputs": [
    {
     "name": "stdout",
     "output_type": "stream",
     "text": [
      "50.0\n"
     ]
    }
   ],
   "source": [
    "# The numpy.mean() function returns the arithmetic mean of elements in the array.\n",
    "\n",
    "import numpy as np\n",
    "\n",
    "a=np.array([[10,20,30],[40,50,60],[70,80,90]])\n",
    "print(np.mean(a))"
   ]
  },
  {
   "cell_type": "code",
   "execution_count": 33,
   "metadata": {},
   "outputs": [
    {
     "name": "stdout",
     "output_type": "stream",
     "text": [
      "[20. 50. 80.]\n"
     ]
    }
   ],
   "source": [
    "# numpy.mean() \n",
    "\n",
    "import numpy as np\n",
    "\n",
    "a=np.array([[10,20,30],[40,50,60],[70,80,90]])\n",
    "print(np.mean(a,1))"
   ]
  },
  {
   "cell_type": "code",
   "execution_count": 32,
   "metadata": {},
   "outputs": [
    {
     "name": "stdout",
     "output_type": "stream",
     "text": [
      "[40. 50. 60.]\n"
     ]
    }
   ],
   "source": [
    "# numpy.mean() \n",
    "\n",
    "import numpy as np\n",
    "\n",
    "a=np.array([[10,20,30],[40,50,60],[70,80,90]])\n",
    "print(np.mean(a,0))"
   ]
  },
  {
   "cell_type": "code",
   "execution_count": 34,
   "metadata": {},
   "outputs": [
    {
     "name": "stdout",
     "output_type": "stream",
     "text": [
      "[40. 50. 60.]\n"
     ]
    }
   ],
   "source": [
    "# numpy.average() function computes the weighted average of elements in an array according to their respective weight given in another array.\n",
    "\n",
    "import numpy as np\n",
    "\n",
    "a=np.array([[10,20,30],[40,50,60],[70,80,90]])\n",
    "print(np.average(a,0))"
   ]
  },
  {
   "cell_type": "code",
   "execution_count": 38,
   "metadata": {},
   "outputs": [
    {
     "name": "stdout",
     "output_type": "stream",
     "text": [
      "23.333333333333332\n"
     ]
    }
   ],
   "source": [
    "# Weighted average\n",
    "# 10*1+20*2+30*3 / 1+2+3\n",
    "\n",
    "import numpy as np\n",
    "\n",
    "a=np.array([10,20,30])\n",
    "b=np.array([1,2,3])\n",
    "print(np.average(a, weights=b))"
   ]
  },
  {
   "cell_type": "code",
   "execution_count": 40,
   "metadata": {},
   "outputs": [
    {
     "name": "stdout",
     "output_type": "stream",
     "text": [
      "[23.33333333 53.33333333 83.33333333]\n"
     ]
    }
   ],
   "source": [
    "# Weighted average\n",
    "import numpy as np\n",
    "\n",
    "a=np.array([[10,20,30],[40,50,60],[70,80,90]])\n",
    "b=np.array([1,2,3])\n",
    "print(np.average(a,1, weights=b))"
   ]
  },
  {
   "cell_type": "code",
   "execution_count": 41,
   "metadata": {},
   "outputs": [
    {
     "name": "stdout",
     "output_type": "stream",
     "text": [
      "[50. 60. 70.]\n"
     ]
    }
   ],
   "source": [
    "# Weighted average\n",
    "import numpy as np\n",
    "\n",
    "a=np.array([[10,20,30],[40,50,60],[70,80,90]])\n",
    "b=np.array([1,2,3])\n",
    "print(np.average(a,0, weights=b))"
   ]
  },
  {
   "cell_type": "code",
   "execution_count": 42,
   "metadata": {},
   "outputs": [
    {
     "name": "stdout",
     "output_type": "stream",
     "text": [
      "8.16496580927726\n"
     ]
    }
   ],
   "source": [
    "# Standard deviation is the square root of the average of squared deviations from mean.\n",
    "\n",
    "import numpy as np\n",
    "\n",
    "a=np.array([10,20,30])\n",
    "print(np.std(a))\n"
   ]
  },
  {
   "cell_type": "code",
   "execution_count": 43,
   "metadata": {},
   "outputs": [
    {
     "name": "stdout",
     "output_type": "stream",
     "text": [
      "[8.16496581 8.16496581 8.16496581]\n"
     ]
    }
   ],
   "source": [
    "# Standard deviation\n",
    "import numpy as np\n",
    "\n",
    "a=np.array([[10,20,30],[40,50,60],[70,80,90]])\n",
    "print(np.std(a,1))\n"
   ]
  },
  {
   "cell_type": "code",
   "execution_count": 44,
   "metadata": {},
   "outputs": [
    {
     "name": "stdout",
     "output_type": "stream",
     "text": [
      "[24.49489743 24.49489743 24.49489743]\n"
     ]
    }
   ],
   "source": [
    "# Standard deviation\n",
    "import numpy as np\n",
    "\n",
    "a=np.array([[10,20,30],[40,50,60],[70,80,90]])\n",
    "print(np.std(a,0))"
   ]
  },
  {
   "cell_type": "code",
   "execution_count": null,
   "metadata": {},
   "outputs": [],
   "source": [
    "# Variance is the average of squared deviations, i.e., mean(abs(x - x.mean())**2). "
   ]
  },
  {
   "cell_type": "code",
   "execution_count": 45,
   "metadata": {},
   "outputs": [
    {
     "name": "stdout",
     "output_type": "stream",
     "text": [
      "66.66666666666667\n"
     ]
    }
   ],
   "source": [
    "import numpy as np\n",
    "\n",
    "a=np.array([10,20,30])\n",
    "print(np.var(a))\n"
   ]
  },
  {
   "cell_type": "code",
   "execution_count": 47,
   "metadata": {},
   "outputs": [
    {
     "name": "stdout",
     "output_type": "stream",
     "text": [
      "[600. 600. 600.]\n"
     ]
    }
   ],
   "source": [
    "# Variance\n",
    "import numpy as np\n",
    "\n",
    "a=np.array([[10,20,30],[40,50,60],[70,80,90]])\n",
    "print(np.var(a,0))"
   ]
  },
  {
   "cell_type": "code",
   "execution_count": null,
   "metadata": {},
   "outputs": [],
   "source": [
    "************    NumPy - Sort, Search & Counting Functions  ***********"
   ]
  },
  {
   "cell_type": "code",
   "execution_count": null,
   "metadata": {},
   "outputs": [],
   "source": [
    "# numpy.sort()  -  The sort() function returns a sorted copy of the input array.\n",
    "# numpy.sort(a, axis, kind, order)"
   ]
  },
  {
   "cell_type": "code",
   "execution_count": 48,
   "metadata": {},
   "outputs": [
    {
     "name": "stdout",
     "output_type": "stream",
     "text": [
      "[0 1 1 3 3 4 4 6 8 9]\n"
     ]
    }
   ],
   "source": [
    "# numpy.sort()\n",
    "\n",
    "import numpy as np\n",
    "\n",
    "a=np.array([3,4,6,1,3,9,0,1,4,8])\n",
    "print(np.sort(a))   # default - quicksort"
   ]
  },
  {
   "cell_type": "code",
   "execution_count": 54,
   "metadata": {},
   "outputs": [
    {
     "name": "stdout",
     "output_type": "stream",
     "text": [
      "[0 1 1 3 3 4 4 6 8 9]\n"
     ]
    }
   ],
   "source": [
    "# numpy.sort() - merge sort\n",
    "\n",
    "import numpy as np\n",
    "\n",
    "a=np.array([3,4,6,1,3,9,0,1,4,8])\n",
    "print(np.sort(a,0,'mergesort'))"
   ]
  },
  {
   "cell_type": "code",
   "execution_count": 55,
   "metadata": {},
   "outputs": [
    {
     "name": "stdout",
     "output_type": "stream",
     "text": [
      "[0 1 1 3 3 4 4 6 8 9]\n"
     ]
    }
   ],
   "source": [
    "# numpy.sort() - heap sort\n",
    "\n",
    "import numpy as np\n",
    "\n",
    "a=np.array([3,4,6,1,3,9,0,1,4,8])\n",
    "print(np.sort(a,0,'heapsort'))"
   ]
  },
  {
   "cell_type": "code",
   "execution_count": 56,
   "metadata": {},
   "outputs": [
    {
     "name": "stdout",
     "output_type": "stream",
     "text": [
      "[6 3 7 0 4 1 8 2 9 5]\n"
     ]
    }
   ],
   "source": [
    "# numpy.argsort() function performs an indirect sort on input array, along the given axis and using a specified kind of sort to return the array of indices of data. \n",
    "\n",
    "import numpy as np\n",
    "\n",
    "a=np.array([3,4,6,1,3,9,0,1,4,8])\n",
    "print(np.argsort(a))"
   ]
  },
  {
   "cell_type": "code",
   "execution_count": 70,
   "metadata": {},
   "outputs": [
    {
     "name": "stdout",
     "output_type": "stream",
     "text": [
      "[1 2 0]\n",
      "['bbb', 'ccc', 'ddd']\n"
     ]
    }
   ],
   "source": [
    "# numpy.lexsort() - function performs an indirect sort using a sequence of keys.\n",
    "\n",
    "import numpy as np\n",
    "\n",
    "a=np.array(['ddd','bbb','ccc'])\n",
    "b=np.array(['a','b','c'])\n",
    "c=np.lexsort((b,a))\n",
    "print (c)\n",
    "print([a[i] for i in c])"
   ]
  },
  {
   "cell_type": "code",
   "execution_count": 1,
   "metadata": {},
   "outputs": [
    {
     "name": "stdout",
     "output_type": "stream",
     "text": [
      "(array([0, 0, 1, 1, 1, 2, 2, 2]), array([0, 1, 0, 1, 2, 0, 1, 2]))\n"
     ]
    }
   ],
   "source": [
    "# numpy.nonzero() function returns the indices of non-zero elements in the input array.\n",
    "\n",
    "import numpy as np\n",
    "\n",
    "a=np.array([[10,20,0],[40,50,60],[70,80,90]])\n",
    "print(np.nonzero(a))"
   ]
  },
  {
   "cell_type": "code",
   "execution_count": 2,
   "metadata": {},
   "outputs": [
    {
     "name": "stdout",
     "output_type": "stream",
     "text": [
      "(array([1, 1, 1, 2, 2, 2]), array([0, 1, 2, 0, 1, 2]))\n"
     ]
    }
   ],
   "source": [
    "#numpy.where() - The where() function returns the indices of elements in an input array where the given condition is satisfied.\n",
    "\n",
    "import numpy as np\n",
    "\n",
    "a=np.array([[10,20,0],[40,50,60],[70,80,90]])\n",
    "print(np.where(a>30))"
   ]
  },
  {
   "cell_type": "code",
   "execution_count": 4,
   "metadata": {},
   "outputs": [
    {
     "name": "stdout",
     "output_type": "stream",
     "text": [
      "[ 0 60 90]\n"
     ]
    }
   ],
   "source": [
    "# numpy.extract() - The extract() function returns the elements satisfying any condition.\n",
    "import numpy as np\n",
    "\n",
    "a=np.array([[10,20,0],[40,50,60],[70,80,90]])\n",
    "\n",
    "condition = np.mod(a,3)==0\n",
    "print(np.extract(condition,a))\n"
   ]
  },
  {
   "cell_type": "code",
   "execution_count": 17,
   "metadata": {},
   "outputs": [
    {
     "name": "stdout",
     "output_type": "stream",
     "text": [
      "[ 720575940379279360 1441151880758558720                   0]\n",
      "[10 20  0]\n"
     ]
    }
   ],
   "source": [
    "# numpy.ndarray.byteswap() - The numpy.ndarray.byteswap() function toggles between the two representations: bigendian and little-endian.\n",
    "import numpy as np\n",
    "\n",
    "a=np.array([10,20,0])\n",
    "\n",
    "print(a.byteswap(True))\n",
    "print(a.byteswap(True))\n"
   ]
  },
  {
   "cell_type": "code",
   "execution_count": null,
   "metadata": {},
   "outputs": [],
   "source": [
    "***************** Numpy Copies and Views  ******************"
   ]
  },
  {
   "cell_type": "code",
   "execution_count": null,
   "metadata": {},
   "outputs": [],
   "source": [
    "# id() - The id() returns a universal identifier of Python object, similar to the pointer in C.\n",
    "# Furthermore, any changes in either gets reflected in the other. "
   ]
  },
  {
   "cell_type": "code",
   "execution_count": 36,
   "metadata": {},
   "outputs": [
    {
     "name": "stdout",
     "output_type": "stream",
     "text": [
      "[[0 1 2]\n",
      " [3 4 5]]\n",
      "[[0 1 2]\n",
      " [3 4 5]]\n",
      "[[0 1]\n",
      " [2 3]\n",
      " [4 5]]\n",
      "[[0 1]\n",
      " [2 3]\n",
      " [4 5]]\n"
     ]
    }
   ],
   "source": [
    "import numpy as np\n",
    "a=np.arange(6).reshape(2,3)\n",
    "print(a)\n",
    "\n",
    "id(a)\n",
    "\n",
    "b=a\n",
    "print(b)\n",
    "\n",
    "b.shape = 3,2  # Changes will be reflected in both variable\n",
    "\n",
    "print(b)\n",
    "print(a) "
   ]
  },
  {
   "cell_type": "code",
   "execution_count": 37,
   "metadata": {},
   "outputs": [
    {
     "name": "stdout",
     "output_type": "stream",
     "text": [
      "[[0 1 2]\n",
      " [3 4 5]]\n",
      "[[0 1 2]\n",
      " [3 4 5]]\n",
      "[[0 1]\n",
      " [2 3]\n",
      " [4 5]]\n",
      "[[0 1 2]\n",
      " [3 4 5]]\n"
     ]
    }
   ],
   "source": [
    "# ndarray.view() method which is a new array object that looks at the same data of the original array. Unlike the earlier case, change in dimensions of the new array doesn’t change dimensions of the original.\n",
    "\n",
    "import numpy as np\n",
    "a=np.arange(6).reshape(2,3)\n",
    "print(a)\n",
    "\n",
    "id(a)\n",
    "\n",
    "b=a.view()\n",
    "print(b)\n",
    "\n",
    "b.shape = 3,2  # Changes will not be reflected in both variable\n",
    "\n",
    "print(b)\n",
    "print(a) "
   ]
  },
  {
   "cell_type": "code",
   "execution_count": 40,
   "metadata": {},
   "outputs": [
    {
     "name": "stdout",
     "output_type": "stream",
     "text": [
      "[[0 1 2]\n",
      " [3 4 5]]\n",
      "[[0 1 2]\n",
      " [3 4 5]]\n",
      "[[ 0  1  2]\n",
      " [50  4  5]]\n",
      "[[0 1 2]\n",
      " [3 4 5]]\n"
     ]
    }
   ],
   "source": [
    "#ndarray.copy() function creates a deep copy. It is a complete copy of the array and its data, and doesn’t share with the original array.\n",
    "\n",
    "import numpy as np\n",
    "a=np.arange(6).reshape(2,3)\n",
    "print(a)\n",
    "\n",
    "id(a)\n",
    "\n",
    "b=np.copy(a)\n",
    "print(b)\n",
    "\n",
    "b[1,0]=50  # Changes will not be reflected in both variable\n",
    "\n",
    "print(b)\n",
    "print(a) "
   ]
  },
  {
   "cell_type": "code",
   "execution_count": null,
   "metadata": {},
   "outputs": [],
   "source": [
    "****************  I/O with NumPy   ****************"
   ]
  },
  {
   "cell_type": "code",
   "execution_count": 2,
   "metadata": {},
   "outputs": [],
   "source": [
    "# numpy.save() - The numpy.save() file stores the input array in a disk file with npy extension.\n",
    "\n",
    "import numpy as np \n",
    "a = np.array([1,2,3,4,5]) \n",
    "np.save('outfile',a)\n"
   ]
  },
  {
   "cell_type": "code",
   "execution_count": 4,
   "metadata": {},
   "outputs": [
    {
     "name": "stdout",
     "output_type": "stream",
     "text": [
      "[1 2 3 4 5]\n"
     ]
    }
   ],
   "source": [
    "# numpy.load() - To reconstruct array from outfile.npy, use load() function.\n",
    "import numpy as np \n",
    "b = np.load('outfile.npy') \n",
    "print (b )"
   ]
  },
  {
   "cell_type": "code",
   "execution_count": 11,
   "metadata": {},
   "outputs": [
    {
     "name": "stdout",
     "output_type": "stream",
     "text": [
      "[1. 2. 3. 4. 5.]\n"
     ]
    }
   ],
   "source": [
    "# The storage and retrieval of array data in simple text file format is done with savetxt() and loadtxt() functions.\n",
    "import numpy as np \n",
    "\n",
    "a = np.array([1,2,3,4,5]) \n",
    "np.savetxt('out.txt',a) \n",
    "b = np.loadtxt('out.txt') \n",
    "print (b) "
   ]
  },
  {
   "cell_type": "code",
   "execution_count": null,
   "metadata": {},
   "outputs": [],
   "source": []
  },
  {
   "cell_type": "code",
   "execution_count": null,
   "metadata": {},
   "outputs": [],
   "source": []
  },
  {
   "cell_type": "code",
   "execution_count": null,
   "metadata": {},
   "outputs": [],
   "source": []
  }
 ],
 "metadata": {
  "kernelspec": {
   "display_name": "Python 3",
   "language": "python",
   "name": "python3"
  },
  "language_info": {
   "codemirror_mode": {
    "name": "ipython",
    "version": 3
   },
   "file_extension": ".py",
   "mimetype": "text/x-python",
   "name": "python",
   "nbconvert_exporter": "python",
   "pygments_lexer": "ipython3",
   "version": "3.7.4"
  }
 },
 "nbformat": 4,
 "nbformat_minor": 2
}
